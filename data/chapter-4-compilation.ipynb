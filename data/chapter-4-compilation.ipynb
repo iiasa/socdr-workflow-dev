{
 "cells": [
  {
   "cell_type": "code",
   "execution_count": null,
   "id": "45c08ae0-d1a2-48a0-aaa3-74513ba5a3d5",
   "metadata": {},
   "outputs": [],
   "source": [
    "import pandas as pd\n",
    "import pyam\n",
    "import nomenclature"
   ]
  },
  {
   "cell_type": "code",
   "execution_count": null,
   "id": "bf67d58d-f4cd-43fd-9e84-b5855dd2708a",
   "metadata": {},
   "outputs": [],
   "source": [
    "iamc_args = dict(\n",
    "    model=\"State of CDR (2024) - Voluntary Carbon Market\",\n",
    "    scenario=\"Observed Data\",\n",
    ")"
   ]
  },
  {
   "cell_type": "code",
   "execution_count": null,
   "id": "9367a9d7-31f3-4406-811e-2b446b1734e6",
   "metadata": {},
   "outputs": [],
   "source": [
    "dsd = nomenclature.DataStructureDefinition(\"../definitions/\")"
   ]
  },
  {
   "cell_type": "code",
   "execution_count": null,
   "id": "01fd7d82-465a-4d3b-b560-f2362fe155ae",
   "metadata": {},
   "outputs": [],
   "source": [
    "df_list = list()"
   ]
  },
  {
   "cell_type": "markdown",
   "id": "31f31e0c-787d-4c4f-9dcf-3a0b434c2ccf",
   "metadata": {},
   "source": [
    "## Conventional Credits"
   ]
  },
  {
   "cell_type": "code",
   "execution_count": null,
   "id": "4ad30b22-1993-4587-a347-726dc821a6e5",
   "metadata": {
    "scrolled": true
   },
   "outputs": [],
   "source": [
    "for sheet_name, _type in ((\"17(a)- Conventional Issuances\", \"Issued\"), (\"17(b)-Conventional Retirements\", \"Sold\")):\n",
    "    data = pd.read_excel(\n",
    "        \"source/4_Voluntary_Carbon_Market/C4- Updated Full Dashboard & Summary Data.xlsx\",\n",
    "        sheet_name=sheet_name,\n",
    "        header=0,\n",
    "        nrows=5,\n",
    "        usecols=\"A:C\",\n",
    "    )\n",
    "    data.columns = [\"variable\", 2022, 2023]\n",
    "    \n",
    "    df_method = pyam.IamDataFrame(\n",
    "        data,\n",
    "        **iamc_args,\n",
    "        unit=\"t CO2\",\n",
    "        region=\"World\",\n",
    "    )\n",
    "    df_method.rename(\n",
    "        variable={\n",
    "            \"Afforestation/Reforestation\": \"Afforestation and Reforestation\",\n",
    "            \"Wetland Restoration\": \"Peatland and Wetland Restoration\",\n",
    "            \"Wooden Building Elements\": \"Durable Wood Products\",\n",
    "        },\n",
    "        inplace=True,\n",
    "    )\n",
    "    df_method.rename(\n",
    "        variable=dict([(i, f\"Carbon Credits|Conventional CDR|Tons {_type}|{i}\") for i in df_method.variable]),\n",
    "        inplace=True,\n",
    "    )\n",
    "    df_method.aggregate(f\"Carbon Credits|Conventional CDR|Tons {_type}\", append=True)\n",
    "\n",
    "    data = pd.read_excel(\n",
    "        \"source/4_Voluntary_Carbon_Market/C4- Updated Full Dashboard & Summary Data.xlsx\",\n",
    "        sheet_name=sheet_name,\n",
    "        header=9,\n",
    "        nrows=37,\n",
    "        usecols=\"A:C\",\n",
    "    )\n",
    "    data.columns = [\"region\", 2022, 2023]\n",
    "    \n",
    "    df_country = pyam.IamDataFrame(\n",
    "        data, \n",
    "        **iamc_args,\n",
    "        variable=f\"Carbon Credits|Conventional CDR|Tons {_type}\",\n",
    "        unit=\"t CO2\",\n",
    "    )\n",
    "\n",
    "    df_list.append(pyam.concat([df_method, df_country]))"
   ]
  },
  {
   "cell_type": "markdown",
   "id": "4c65d977-432d-4571-a8a2-6c0e92bf03c9",
   "metadata": {},
   "source": [
    "## Novel credits"
   ]
  },
  {
   "cell_type": "code",
   "execution_count": null,
   "id": "8232f36a-4df9-4e7a-bd66-0854d63c9ca9",
   "metadata": {},
   "outputs": [],
   "source": [
    "for sheet_name, _type in ((\"18(a)-Novel Purchases\", \"Sold\"), (\"18(b)- Novel Deliveries\", \"Delivered\")):\n",
    "    data = pd.read_excel(\n",
    "        \"source/4_Voluntary_Carbon_Market/C4- Updated Full Dashboard & Summary Data.xlsx\",\n",
    "        sheet_name=sheet_name,\n",
    "        header=0,\n",
    "        nrows=11,\n",
    "        usecols=\"A:C\",\n",
    "    )\n",
    "    data.columns = [\"variable\", 2022, 2023]\n",
    "    \n",
    "    df_method = pyam.IamDataFrame(\n",
    "        data,\n",
    "        **iamc_args,\n",
    "        unit=\"t CO2\",\n",
    "        region=\"World\",\n",
    "    )\n",
    "    df_method.rename(\n",
    "        variable={\n",
    "            \"BECCS\": \"Bioenergy with CCS\",\n",
    "            \"Biomass Removal\": \"Biomass Burial\",\n",
    "            \"Biooil\": \"Bio-Oil Storage\",\n",
    "            \"DAC\": \"Direct Air Capture with CCS\",\n",
    "            \"Direct Ocean Removal\": \"Direct Ocean Capture\",\n",
    "            \"Microalgae\": \"Biomass Sinking\",\n",
    "            \"Not disclosed\": \"Not Disclosed\",\n",
    "        },\n",
    "        inplace=True,\n",
    "    )\n",
    "    df_method.rename(\n",
    "        variable=dict([(i, f\"Carbon Credits|Novel CDR|Tons {_type}|{i}\") for i in df_method.variable]),\n",
    "        inplace=True,\n",
    "    )\n",
    "    df_method.aggregate(f\"Carbon Credits|Novel CDR|Tons {_type}\", append=True)\n",
    "\n",
    "    df_list.append(pyam.concat([df_method]))"
   ]
  },
  {
   "cell_type": "markdown",
   "id": "a952a2ec-faad-48ba-962f-b51f7e1b03a4",
   "metadata": {},
   "source": [
    "## Number of active projects"
   ]
  },
  {
   "cell_type": "code",
   "execution_count": null,
   "id": "54810dfb-0799-4fa2-804c-6a9dc8f62648",
   "metadata": {},
   "outputs": [],
   "source": [
    "data = pd.read_excel(\n",
    "    \"source/4_Voluntary_Carbon_Market/C4- Updated Full Dashboard & Summary Data.xlsx\",\n",
    "    sheet_name=\"Full Dashboard\",\n",
    ")"
   ]
  },
  {
   "cell_type": "code",
   "execution_count": null,
   "id": "8b7e34c4-ad50-4bed-99e6-b99d15f4e6d3",
   "metadata": {
    "scrolled": true
   },
   "outputs": [],
   "source": [
    "active_projects_list = []\n",
    "\n",
    "for year in [2022, 2023]:\n",
    "    columns = [i for i in data.columns if str(year) in i]\n",
    "    _df = data[data[columns].T.sum() > 0].groupby([\"Region\", \"SoCDR Classification\"]).count()[\"Project ID\"].reset_index()\n",
    "    _df[\"year\"] = year\n",
    "\n",
    "    active_projects_list.append(\n",
    "         pyam.IamDataFrame(\n",
    "            _df,\n",
    "            **iamc_args,\n",
    "            unit=\"\",\n",
    "            variable=\"SoCDR Classification\",\n",
    "            value=\"Project ID\",\n",
    "        ).filter(variable=[\"Avoided Emissions\", \"Emission Reduction\"], keep=False)\n",
    "    )\n",
    "\n",
    "df_active_project = pyam.concat(active_projects_list)"
   ]
  },
  {
   "cell_type": "code",
   "execution_count": null,
   "id": "29b3466d-88cb-4ac1-8c6b-95f3988053bf",
   "metadata": {},
   "outputs": [],
   "source": [
    "prefix = \"Carbon Credits|Active Projects\"\n",
    "df_active_project.rename(\n",
    "    variable=dict(\n",
    "        [(i, f\"{prefix}|{i}\") for i in df_active_project.variable]\n",
    "    ),\n",
    "    inplace=True\n",
    ")\n",
    "df_active_project.aggregate(prefix, append=True)"
   ]
  },
  {
   "cell_type": "code",
   "execution_count": null,
   "id": "4e2f738b-e585-4a8d-8790-cf0c9abaac16",
   "metadata": {},
   "outputs": [],
   "source": [
    "df_active_project.aggregate(prefix, append=True)"
   ]
  },
  {
   "cell_type": "code",
   "execution_count": null,
   "id": "6692f9da-520b-4a28-ae5d-69b64e17328c",
   "metadata": {},
   "outputs": [],
   "source": [
    "df_active_project.aggregate_region(df_active_project.variable, append=True)"
   ]
  },
  {
   "cell_type": "code",
   "execution_count": null,
   "id": "d85fefe7-1633-4d28-98f4-c4f6c70bd325",
   "metadata": {},
   "outputs": [],
   "source": [
    "df_active_project.filter(year=2022).plot.bar(x=\"region\", bars=\"variable\", stacked=True, )"
   ]
  },
  {
   "cell_type": "code",
   "execution_count": null,
   "id": "5ae8a27b-c40f-4889-aed7-91d13c173441",
   "metadata": {},
   "outputs": [],
   "source": [
    "df_active_project.filter(year=2023).plot.bar(x=\"region\", bars=\"variable\", stacked=True, )"
   ]
  },
  {
   "cell_type": "code",
   "execution_count": null,
   "id": "17ebdc49-baa1-4eeb-89e0-b5f4d5791801",
   "metadata": {},
   "outputs": [],
   "source": [
    "df_list.append(df_active_project)"
   ]
  },
  {
   "cell_type": "markdown",
   "id": "41682178-2de3-4063-9ddf-e2749f39dd54",
   "metadata": {},
   "source": [
    "## Merge data"
   ]
  },
  {
   "cell_type": "code",
   "execution_count": null,
   "id": "bcecf6a5-12aa-4dbd-b4f4-5b3a09f6f619",
   "metadata": {},
   "outputs": [],
   "source": [
    "df = pyam.concat(df_list)"
   ]
  },
  {
   "cell_type": "code",
   "execution_count": null,
   "id": "075528a1-f67e-4c7f-a4ab-dda3da5ede1a",
   "metadata": {},
   "outputs": [],
   "source": [
    "df.rename(region={\"Republic of Congo\": \"Congo\"}, inplace=True)"
   ]
  },
  {
   "cell_type": "code",
   "execution_count": null,
   "id": "44bc51bb-8d0c-41c0-b63a-0fedbb59f98d",
   "metadata": {},
   "outputs": [],
   "source": [
    "df.convert_unit(\"t CO2\", \"Mt CO2\", inplace=True)"
   ]
  },
  {
   "cell_type": "code",
   "execution_count": null,
   "id": "b902df3a-5e0a-4985-b851-057fdd647700",
   "metadata": {},
   "outputs": [],
   "source": [
    "dsd.validate(df)"
   ]
  },
  {
   "cell_type": "code",
   "execution_count": null,
   "id": "3b905290-ee6c-4e18-9dc3-1d96f5c69a81",
   "metadata": {},
   "outputs": [],
   "source": [
    "df.filter(region=\"World\", variable=\"Carbon Credits|Conventional CDR|Tons Sold|*\").plot.bar(stacked=True)"
   ]
  },
  {
   "cell_type": "code",
   "execution_count": null,
   "id": "f05a870c-81bd-4614-9d9a-2d0f89b64fc5",
   "metadata": {},
   "outputs": [],
   "source": [
    "dsd.validate(df_active_project)"
   ]
  },
  {
   "cell_type": "markdown",
   "id": "29aa8724-6caf-4b7e-9c3b-2a797312d9dc",
   "metadata": {},
   "source": [
    "# Import to ixmp4 database"
   ]
  },
  {
   "cell_type": "code",
   "execution_count": null,
   "id": "68f7cc13-4c27-4241-80d2-fe76adf6d2dd",
   "metadata": {},
   "outputs": [],
   "source": []
  },
  {
   "cell_type": "code",
   "execution_count": null,
   "id": "a1c9ff0e-e381-42a9-922a-f2222e5dfdf0",
   "metadata": {},
   "outputs": [],
   "source": [
    "import ixmp4"
   ]
  },
  {
   "cell_type": "code",
   "execution_count": null,
   "id": "c36c1a58-91f5-44d9-9cfe-dc67cdef847c",
   "metadata": {},
   "outputs": [],
   "source": [
    "platform = ixmp4.Platform(\"socdr-dev\")"
   ]
  },
  {
   "cell_type": "code",
   "execution_count": null,
   "id": "244fad42-b418-464c-ad18-febe99cf6143",
   "metadata": {},
   "outputs": [],
   "source": [
    "run = platform.runs.get(**iamc_args)"
   ]
  },
  {
   "cell_type": "code",
   "execution_count": null,
   "id": "02daa9bd-14c1-4f5f-9882-5c3c5563401a",
   "metadata": {},
   "outputs": [],
   "source": [
    "run.iamc.remove(run.iamc.tabulate())"
   ]
  },
  {
   "cell_type": "code",
   "execution_count": null,
   "id": "eff1e912-ef8c-4a9c-b946-fd4c53141519",
   "metadata": {},
   "outputs": [],
   "source": [
    "run.iamc.add(df.data)"
   ]
  },
  {
   "cell_type": "markdown",
   "id": "da831178-e010-4619-9c70-c82153203835",
   "metadata": {},
   "source": [
    "## Figure 4.3"
   ]
  },
  {
   "cell_type": "code",
   "execution_count": null,
   "id": "bdc2382f-071c-40ce-8f75-b58fc0b6ae4a",
   "metadata": {},
   "outputs": [],
   "source": [
    "data = pd.read_excel(\n",
    "    \"source/4_Voluntary_Carbon_Market/C4 Final Data.xlsx\",\n",
    "    sheet_name=\"data_both_4.3\",\n",
    "    header=1,\n",
    "    nrows=12,\n",
    "    usecols=\"A:D\",\n",
    ")"
   ]
  },
  {
   "cell_type": "code",
   "execution_count": null,
   "id": "d46859c6-5db8-48ca-96ad-4497ef067f87",
   "metadata": {},
   "outputs": [],
   "source": [
    "for i in range(6):\n",
    "    data.loc[2*i+1, \"SoCDR Classification\"] = data.loc[2*i, \"SoCDR Classification\"]"
   ]
  },
  {
   "cell_type": "code",
   "execution_count": null,
   "id": "33e8a1f3-4c47-4f3c-8c3d-bbb815707a90",
   "metadata": {},
   "outputs": [],
   "source": [
    "_df = pyam.IamDataFrame(\n",
    "    data, \n",
    "    **iamc_args,\n",
    "    unit=\"t CO2\",\n",
    "    region=\"World\",\n",
    "    value=[\"Tons Sold\", \"Tons Issued\"],\n",
    ")\n",
    "_data = _df.data.rename(columns={\"variable\": \"category\"})\n",
    "\n",
    "df = pyam.IamDataFrame(\n",
    "    _data,\n",
    "    variable=[\"category\", \"socdr classification\"]\n",
    ").convert_unit(\"t CO2\", \"Mt CO2\")\n",
    "\n",
    "df.rename(variable=dict({\n",
    "    (i, i.replace(\"Tons Issued|\", \"Carbon Credits|Issued Credits|\").replace(\"Tons Sold|\", \"Carbon Credits|Sold Credits|\"))\n",
    "    for i in df.variable\n",
    "}), inplace=True)\n",
    "\n",
    "df.aggregate([\"Carbon Credits|Issued Credits\", \"Carbon Credits|Sold Credits\"], append=True)"
   ]
  },
  {
   "cell_type": "code",
   "execution_count": null,
   "id": "d7559fb7-d273-460e-961d-a2c534887cc7",
   "metadata": {},
   "outputs": [],
   "source": [
    "df_list.append(df)"
   ]
  },
  {
   "cell_type": "code",
   "execution_count": null,
   "id": "3f6bfc11-a1f5-48ba-b97e-692cb7be959a",
   "metadata": {},
   "outputs": [],
   "source": []
  },
  {
   "cell_type": "markdown",
   "id": "065fed48-454b-4eee-b132-3835e2fac0f2",
   "metadata": {},
   "source": [
    "## Figure 4.4a"
   ]
  },
  {
   "cell_type": "code",
   "execution_count": null,
   "id": "87419c42-c539-4abf-a59f-52b2f83e96cc",
   "metadata": {},
   "outputs": [],
   "source": [
    "data = pd.read_excel(\n",
    "    \"source/4_Voluntary_Carbon_Market/C4 Final Data.xlsx\",\n",
    "    sheet_name=\"data_both_4.4.1\",\n",
    "    header=2,\n",
    "    nrows=4,\n",
    "    usecols=\"A:H\",\n",
    ")"
   ]
  },
  {
   "cell_type": "code",
   "execution_count": null,
   "id": "5bd92235-7b84-4408-b9d0-38a8b9a4e85f",
   "metadata": {},
   "outputs": [],
   "source": [
    "for i in range(2):\n",
    "    data.loc[2*i+1, \"Year\"] = data.loc[2*i, \"Year\"]"
   ]
  },
  {
   "cell_type": "code",
   "execution_count": null,
   "id": "dc7384de-6cae-487a-b68f-6310adf68201",
   "metadata": {
    "scrolled": true
   },
   "outputs": [],
   "source": [
    "_df = pyam.IamDataFrame(\n",
    "    data, \n",
    "    **iamc_args,\n",
    "    unit=\"t CO2\",\n",
    "    region=\"World\",\n",
    "    value=[\"Afforestation/Reforestation\", \"Carbonated Building Elements\", \"Improved Forest Management\",\n",
    "       \"Soil Carbon Sequestration\", \"Wetland Restoration\", \"Wooden Building Elements\"],\n",
    ")\n",
    "_data = _df.data.rename(columns={\"variable\": \"category\"})\n",
    "\n",
    "df = pyam.IamDataFrame(\n",
    "    _data,\n",
    "    variable=[\"sum\", \"category\"]\n",
    ").convert_unit(\"t CO2\", \"Mt CO2\")"
   ]
  },
  {
   "cell_type": "code",
   "execution_count": null,
   "id": "e720bd46-b62f-4466-927f-291fbea73645",
   "metadata": {},
   "outputs": [],
   "source": [
    "df.rename(variable=dict({\n",
    "    (\n",
    "        i, \n",
    "        i.replace(\"Tons Issued|\", \"Carbon Credits|Issued Credits For All Conventional CDR|\")\n",
    "        .replace(\"Tons Sold|\", \"Carbon Credits|Sold Credits For All Conventional CDR|\")\n",
    "    )\n",
    "    for i in df.variable\n",
    "}), inplace=True)"
   ]
  },
  {
   "cell_type": "code",
   "execution_count": null,
   "id": "cf663ee5-fe7d-476d-bc12-022ba8c817b0",
   "metadata": {},
   "outputs": [],
   "source": [
    "df_list.append(df)"
   ]
  },
  {
   "cell_type": "code",
   "execution_count": null,
   "id": "1e88a0fe-50b6-4c1c-bbfb-4b2830e4e07f",
   "metadata": {},
   "outputs": [],
   "source": [
    "df.aggregate(\n",
    "    [\"Carbon Credits|Sold Credits For All Conventional CDR\", \"Carbon Credits|Issued Credits For All Conventional CDR\"]\n",
    ").timeseries()"
   ]
  },
  {
   "cell_type": "code",
   "execution_count": null,
   "id": "21d1fb80-6f7d-4af8-a230-27f031596165",
   "metadata": {},
   "outputs": [],
   "source": [
    "pyam.concat(df_list).filter(variable=[\"Carbon Credits|Sold Credits|Conventional CDR\", \"Carbon Credits|Issued Credits|Conventional CDR\"]).timeseries()"
   ]
  },
  {
   "cell_type": "markdown",
   "id": "2666a539-1f6f-4606-9a95-8a50f40b2f9c",
   "metadata": {},
   "source": [
    "## Figure 4.4b"
   ]
  },
  {
   "cell_type": "code",
   "execution_count": null,
   "id": "7222a6f4-9d4c-4de5-a0e9-e0795f10224a",
   "metadata": {},
   "outputs": [],
   "source": [
    "data = pd.read_excel(\n",
    "    \"source/4_Voluntary_Carbon_Market/C4 Final Data.xlsx\",\n",
    "    sheet_name=\"data_both_4.4.2\",\n",
    "    header=3,\n",
    "    nrows=4,\n",
    "    usecols=\"A:M\",\n",
    ")"
   ]
  },
  {
   "cell_type": "code",
   "execution_count": null,
   "id": "82fc97db-507f-406d-b14f-4e5e2b7aeda0",
   "metadata": {},
   "outputs": [],
   "source": [
    "for i in range(2):\n",
    "    data.loc[2*i+1, \"Year\"] = data.loc[2*i, \"Year\"]"
   ]
  },
  {
   "cell_type": "code",
   "execution_count": null,
   "id": "da9742fc-e37e-45c3-a8bf-05a0ec88f3b2",
   "metadata": {},
   "outputs": [],
   "source": [
    "_df = pyam.IamDataFrame(\n",
    "    data, \n",
    "    model=\"State of CDR (2024) - Voluntary Carbon Market\",\n",
    "    scenario=\"Historical Reference\",\n",
    "    unit=\"t CO2\",\n",
    "    region=\"World\",\n",
    "    value=[\"BECCS\", \"Biochar\", \"Biomass Removal\", \"Biooil\", \"DAC\",\n",
    "       \"Direct Ocean Removal\", \"Enhanced Weathering\", \"Fertilsation\",\n",
    "       \"Mineralisation\", \"Not disclosed\", \"Ocean Alkalinity Enhancement\"],\n",
    ")\n",
    "_data = _df.data.rename(columns={\"variable\": \"category\"})\n",
    "\n",
    "df = pyam.IamDataFrame(\n",
    "    _data,\n",
    "    variable=[\"sum\", \"category\"]\n",
    ").convert_unit(\"t CO2\", \"Mt CO2\")"
   ]
  },
  {
   "cell_type": "code",
   "execution_count": null,
   "id": "e1a5fcb9-354e-4bd8-bcc4-fe9c5a2bca0a",
   "metadata": {},
   "outputs": [],
   "source": [
    "df.rename(variable=dict({\n",
    "    (\n",
    "        i, \n",
    "        i.replace(\"Tons Delivered|\", \"Carbon Credits|Issued Credits For All Novel CDR|\")\n",
    "        .replace(\"Tons Sold|\", \"Carbon Credits|Sold Credits For All Novel CDR|\")\n",
    "    )\n",
    "    for i in df.variable\n",
    "}), inplace=True)"
   ]
  },
  {
   "cell_type": "code",
   "execution_count": null,
   "id": "a730bf7a-84d9-4df3-84fc-dba082a8f6f9",
   "metadata": {},
   "outputs": [],
   "source": [
    "df_list.append(df)"
   ]
  },
  {
   "cell_type": "code",
   "execution_count": null,
   "id": "2d099bfc-5874-4110-a344-3e39ac86a0de",
   "metadata": {},
   "outputs": [],
   "source": []
  },
  {
   "cell_type": "code",
   "execution_count": null,
   "id": "8ea05374-33c0-42f9-8e73-48bf96b9dbc5",
   "metadata": {},
   "outputs": [],
   "source": [
    "final_df = pyam.concat(df_list)"
   ]
  },
  {
   "cell_type": "code",
   "execution_count": null,
   "id": "baf56e1a-69a2-4025-85e4-e68f59a88beb",
   "metadata": {},
   "outputs": [],
   "source": [
    "final_df.rename(variable=dict({\n",
    "    (\n",
    "        i, \n",
    "        i.replace(\"Afforestation/Reforestation\", \"Afforestation and Reforestation\")\n",
    "        .replace(\"Improved Forest Management\", \"Forest Management\")\n",
    "        .replace(\"Wetland Restoration\", \"Peatland and Wetland Restoration\")\n",
    "        .replace(\"Biomass Removal\", \"Biomass Burial\")\n",
    "        .replace(\"DAC\", \"Direct Air Capture\")\n",
    "        .replace(\"Fertilsation\", \"Ocean Fertilization\")\n",
    "        .replace(\"Direct Ocean Removal\", \"Direct Ocean Capture\")\n",
    "        .replace(\"Not disclosed\", \"Not Disclosed\")\n",
    "        .replace(\"Mineralisation\", \"Mineral Products\")       \n",
    "    )\n",
    "    for i in final_df.variable\n",
    "}), inplace=True)"
   ]
  },
  {
   "cell_type": "code",
   "execution_count": null,
   "id": "039d9fc8-50cd-4f54-b402-2825dd53ed74",
   "metadata": {},
   "outputs": [],
   "source": [
    "dsd = nomenclature.DataStructureDefinition(\"../definitions/\")"
   ]
  },
  {
   "cell_type": "code",
   "execution_count": null,
   "id": "20d79fe2-b287-4fd5-bb4a-36c64ada0dee",
   "metadata": {
    "scrolled": true
   },
   "outputs": [],
   "source": [
    "dsd.validate(final_df)"
   ]
  },
  {
   "cell_type": "code",
   "execution_count": null,
   "id": "ab3134cf-3b89-4183-8949-860bd34e6f47",
   "metadata": {},
   "outputs": [],
   "source": []
  },
  {
   "cell_type": "code",
   "execution_count": null,
   "id": "8a571898-ef78-42ae-9bf6-e89c4f498c59",
   "metadata": {},
   "outputs": [],
   "source": []
  },
  {
   "cell_type": "code",
   "execution_count": null,
   "id": "27c89658-fcd1-4de3-b2cc-08f85df8c6b0",
   "metadata": {},
   "outputs": [],
   "source": []
  }
 ],
 "metadata": {
  "kernelspec": {
   "display_name": "Python 3 (ipykernel)",
   "language": "python",
   "name": "python3"
  },
  "language_info": {
   "codemirror_mode": {
    "name": "ipython",
    "version": 3
   },
   "file_extension": ".py",
   "mimetype": "text/x-python",
   "name": "python",
   "nbconvert_exporter": "python",
   "pygments_lexer": "ipython3",
   "version": "3.12.2"
  }
 },
 "nbformat": 4,
 "nbformat_minor": 5
}
