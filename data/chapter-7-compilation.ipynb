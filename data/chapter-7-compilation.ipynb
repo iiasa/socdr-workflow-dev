{
 "cells": [
  {
   "cell_type": "code",
   "execution_count": null,
   "id": "71cc26bd-ed7a-4f8b-b43a-9744b32990d5",
   "metadata": {},
   "outputs": [],
   "source": [
    "import pandas as pd\n",
    "import pyam\n",
    "import nomenclature\n",
    "import ixmp4"
   ]
  },
  {
   "cell_type": "code",
   "execution_count": null,
   "id": "f421d77e-952f-4946-ac33-7237b4a731af",
   "metadata": {},
   "outputs": [],
   "source": [
    "iamc_args = dict(\n",
    "    model=\"State of CDR (2024) - Current CDR\",\n",
    "    scenario=\"Observed Data\",\n",
    ")"
   ]
  },
  {
   "cell_type": "code",
   "execution_count": null,
   "id": "e08ace55-3cc2-49b6-b03a-91f45be2d8fc",
   "metadata": {},
   "outputs": [],
   "source": [
    "dsd = nomenclature.DataStructureDefinition(\"../definitions/\")"
   ]
  },
  {
   "cell_type": "code",
   "execution_count": null,
   "id": "c5b3ee23-f07d-4832-a154-0ed8d7de796d",
   "metadata": {},
   "outputs": [],
   "source": [
    "data = pd.read_excel(\n",
    "    \"source/7_Deployment/Indicator 15_Novel CDR volumes by method, year, and country.xlsx.xlsx\",\n",
    "    sheet_name=\"Dashboard\",\n",
    "    header=28,\n",
    "    nrows=8,\n",
    "    usecols=\"B:J\",\n",
    ").set_index(\"Year\")"
   ]
  },
  {
   "cell_type": "code",
   "execution_count": null,
   "id": "e95a8933-448f-4c15-ab22-82a9a79a8fb5",
   "metadata": {},
   "outputs": [],
   "source": [
    "df_novel = pyam.IamDataFrame(\n",
    "    data,\n",
    "    **iamc_args,\n",
    "    value=data.columns,\n",
    "    unit=\"t CO2\",\n",
    "    region=\"World\",\n",
    ")"
   ]
  },
  {
   "cell_type": "code",
   "execution_count": null,
   "id": "fb8a5635-38ca-4074-879e-a27fdd95792a",
   "metadata": {},
   "outputs": [],
   "source": [
    "df_novel.rename(\n",
    "    variable={\n",
    "        \"BECCS\": \"Bioenergy with CCS\",\n",
    "        \"Bio-oil Storage\": \"Bio-Oil Storage\",\n",
    "        \"DACCS\": \"Direct Air Capture with CCS\",\n",
    "        \"ERW\": \"Enhanced Weathering\",\n",
    "        \"Macroalgae\": \"Biomass Sinking\",\n",
    "        \"Mineralisation\": \"Mineral Products\",\n",
    "    },\n",
    "    inplace=True,\n",
    ")\n",
    "df_novel.rename(\n",
    "    variable=dict([(i, f\"Carbon Removal|Novel|{i}\") for i in df_novel.variable]),\n",
    "    inplace=True,\n",
    ")\n",
    "df_novel.aggregate(f\"Carbon Removal|Novel\", append=True)"
   ]
  },
  {
   "cell_type": "code",
   "execution_count": null,
   "id": "10c3d999-5b68-4039-80a1-995bcbd15855",
   "metadata": {},
   "outputs": [],
   "source": [
    "df_novel.rename(unit={\"t CO2\": \"t CO2/yr\"}, inplace=True)"
   ]
  },
  {
   "cell_type": "code",
   "execution_count": null,
   "id": "cafced12-86c6-4eeb-a40f-c784cf64f837",
   "metadata": {},
   "outputs": [],
   "source": [
    "df_novel.convert_unit(\"t CO2/yr\", \"Mt CO2/yr\", inplace=True)"
   ]
  },
  {
   "cell_type": "code",
   "execution_count": null,
   "id": "7013bed3-333c-43a0-8eda-588cbaa28bab",
   "metadata": {},
   "outputs": [],
   "source": [
    "data = (\n",
    "    pd.read_excel(\"source/7_Deployment/Data_Chapter7_Figure2.xlsx\")\n",
    "    .rename(columns={\"Unnamed: 0\": \"year\"})\n",
    "    .set_index(\"year\")\n",
    ")\n",
    "data"
   ]
  },
  {
   "cell_type": "code",
   "execution_count": null,
   "id": "d47ec491-6152-4846-a8f1-81f58d72843e",
   "metadata": {},
   "outputs": [],
   "source": [
    "df_conventional = pyam.IamDataFrame(\n",
    "    data,\n",
    "    **iamc_args,\n",
    "    value=data.columns,\n",
    "    unit=\"Mt CO2/yr\",\n",
    "    region=\"World\",\n",
    ")"
   ]
  },
  {
   "cell_type": "code",
   "execution_count": null,
   "id": "bff25dd8-42d4-4efc-b14f-4a1fa934978b",
   "metadata": {},
   "outputs": [],
   "source": [
    "df_conventional.rename(variable={\"Mean of models\": \"Mean of Models\"}, inplace=True)"
   ]
  },
  {
   "cell_type": "code",
   "execution_count": null,
   "id": "e633d9f3-cac8-4349-9481-65f75f05faae",
   "metadata": {},
   "outputs": [],
   "source": [
    "df_conventional.variable"
   ]
  },
  {
   "cell_type": "code",
   "execution_count": null,
   "id": "d1205de1-ebdf-4ee5-930f-d779016de7f9",
   "metadata": {},
   "outputs": [],
   "source": [
    "df_conventional.rename(\n",
    "    variable= dict(\n",
    "        [(i, f\"Carbon Flux|Conventional CDR [{i}]\") for i in [\"BLUE\", \"H&C2023\", \"OSCAR\", \"Mean of Models\"]]\n",
    "    ),\n",
    "    inplace=True,\n",
    ")"
   ]
  },
  {
   "cell_type": "code",
   "execution_count": null,
   "id": "888d4fd5-3452-4533-9e19-b10d70fa0194",
   "metadata": {},
   "outputs": [],
   "source": [
    "nghgi_mapping = {\n",
    "    \"NGHGIs (lower-bound)\": \"Minimum\",\n",
    "    \"NGHGIs (mean)\": \"Median\",\n",
    "    \"NGHGIs (upper-bound)\": \"Maximum\",\n",
    "}\n",
    "\n",
    "df_conventional.rename(\n",
    "    variable= dict(\n",
    "        [\n",
    "            (key, f\"Carbon Flux|Conventional CDR [Model-Adjusted Inventories][{value}]\")\n",
    "             for key, value in nghgi_mapping.items()\n",
    "        ]\n",
    "    ),\n",
    "    inplace=True,\n",
    ")"
   ]
  },
  {
   "cell_type": "code",
   "execution_count": null,
   "id": "5b6f1931-c26b-4b93-977d-b561af7878ca",
   "metadata": {},
   "outputs": [],
   "source": [
    "df_conventional.convert_unit(\"Mt CO2/yr\", \"Gt CO2/yr\", inplace=True)"
   ]
  },
  {
   "cell_type": "code",
   "execution_count": null,
   "id": "c1ea1cf0-dd4c-485b-b3bf-f2b2377f0aad",
   "metadata": {},
   "outputs": [],
   "source": [
    "df = pyam.concat([df_novel, df_conventional])"
   ]
  },
  {
   "cell_type": "code",
   "execution_count": null,
   "id": "51c6d43e-0f09-45c8-80e6-26be94fb9ccd",
   "metadata": {},
   "outputs": [],
   "source": [
    "dsd.validate(df)"
   ]
  },
  {
   "cell_type": "code",
   "execution_count": null,
   "id": "c343ae17-15bf-47df-92b9-7f00597ffa69",
   "metadata": {},
   "outputs": [],
   "source": [
    "df.set_meta(\"Chapter 7\", \"Chapter\")"
   ]
  },
  {
   "cell_type": "code",
   "execution_count": null,
   "id": "02c8fbaa-7ad1-464b-8807-a58739ee5f52",
   "metadata": {},
   "outputs": [],
   "source": [
    "# df.to_ixmp4(\"socdr-dev\")"
   ]
  },
  {
   "cell_type": "code",
   "execution_count": null,
   "id": "23fc8727-3430-418c-a5d8-391412b6b6c4",
   "metadata": {},
   "outputs": [],
   "source": []
  },
  {
   "cell_type": "code",
   "execution_count": null,
   "id": "01c77b75-1116-4c63-a79c-35997dc791a3",
   "metadata": {},
   "outputs": [],
   "source": [
    "platform = ixmp4.Platform(\"socdr-dev\")"
   ]
  },
  {
   "cell_type": "code",
   "execution_count": null,
   "id": "20d99902-8e56-4118-9bae-3dc31892d4ae",
   "metadata": {},
   "outputs": [],
   "source": [
    "run = platform.runs.get(**iamc_args)"
   ]
  },
  {
   "cell_type": "code",
   "execution_count": null,
   "id": "99fc724b-2be3-4246-9b90-db0e51ec8124",
   "metadata": {},
   "outputs": [],
   "source": [
    "run.iamc.remove(run.iamc.tabulate())"
   ]
  },
  {
   "cell_type": "code",
   "execution_count": null,
   "id": "97f4e475-96fc-4c3c-8e79-06d3fe14cda7",
   "metadata": {},
   "outputs": [],
   "source": [
    "run.iamc.add(df.data)"
   ]
  },
  {
   "cell_type": "code",
   "execution_count": null,
   "id": "26b699bb-39fb-434a-aa4b-230891f35661",
   "metadata": {},
   "outputs": [],
   "source": []
  }
 ],
 "metadata": {
  "kernelspec": {
   "display_name": "Python 3 (ipykernel)",
   "language": "python",
   "name": "python3"
  },
  "language_info": {
   "codemirror_mode": {
    "name": "ipython",
    "version": 3
   },
   "file_extension": ".py",
   "mimetype": "text/x-python",
   "name": "python",
   "nbconvert_exporter": "python",
   "pygments_lexer": "ipython3",
   "version": "3.12.2"
  }
 },
 "nbformat": 4,
 "nbformat_minor": 5
}
