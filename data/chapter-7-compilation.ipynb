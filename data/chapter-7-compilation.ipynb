{
 "cells": [
  {
   "cell_type": "code",
   "execution_count": null,
   "id": "71cc26bd-ed7a-4f8b-b43a-9744b32990d5",
   "metadata": {},
   "outputs": [],
   "source": [
    "import pandas as pd\n",
    "import pyam\n",
    "import nomenclature\n",
    "import ixmp4"
   ]
  },
  {
   "cell_type": "code",
   "execution_count": null,
   "id": "f421d77e-952f-4946-ac33-7237b4a731af",
   "metadata": {},
   "outputs": [],
   "source": [
    "iamc_args = dict(\n",
    "    model=\"State of CDR (2024) - Current CDR\",\n",
    "    scenario=\"Observed Data\",\n",
    ")"
   ]
  },
  {
   "cell_type": "code",
   "execution_count": null,
   "id": "e08ace55-3cc2-49b6-b03a-91f45be2d8fc",
   "metadata": {},
   "outputs": [],
   "source": [
    "dsd = nomenclature.DataStructureDefinition(\"../definitions/\")"
   ]
  },
  {
   "cell_type": "code",
   "execution_count": null,
   "id": "c5b3ee23-f07d-4832-a154-0ed8d7de796d",
   "metadata": {},
   "outputs": [],
   "source": [
    "data = pd.read_excel(\n",
    "    \"source/7_Deployment/Indicator 15_Novel CDR volumes by method, year, and country.xlsx.xlsx\",\n",
    "    sheet_name=\"Dashboard\",\n",
    "    header=28,\n",
    "    nrows=8,\n",
    "    usecols=\"B:J\",\n",
    ").set_index(\"Year\")"
   ]
  },
  {
   "cell_type": "code",
   "execution_count": null,
   "id": "ae8810c4-2d4d-432c-afdf-f1763d8c5641",
   "metadata": {},
   "outputs": [],
   "source": [
    "data"
   ]
  },
  {
   "cell_type": "code",
   "execution_count": null,
   "id": "e95a8933-448f-4c15-ab22-82a9a79a8fb5",
   "metadata": {},
   "outputs": [],
   "source": [
    "df = pyam.IamDataFrame(\n",
    "    data,\n",
    "    **iamc_args,\n",
    "    value=data.columns,\n",
    "    unit=\"t CO2\",\n",
    "    region=\"World\",\n",
    ")"
   ]
  },
  {
   "cell_type": "code",
   "execution_count": null,
   "id": "f553c9ee-b625-4dbc-b8d0-24839f1ef677",
   "metadata": {},
   "outputs": [],
   "source": [
    "df"
   ]
  },
  {
   "cell_type": "code",
   "execution_count": null,
   "id": "689b261a-9002-4f7a-8f12-beee22796910",
   "metadata": {},
   "outputs": [],
   "source": [
    "df.variable"
   ]
  },
  {
   "cell_type": "code",
   "execution_count": null,
   "id": "fb8a5635-38ca-4074-879e-a27fdd95792a",
   "metadata": {},
   "outputs": [],
   "source": [
    "df.rename(\n",
    "    variable={\n",
    "        \"BECCS\": \"Bioenergy with CCS\",\n",
    "        \"Bio-oil Storage\": \"Bio-Oil Storage\",\n",
    "        \"DACCS\": \"Direct Air Capture with CCS\",\n",
    "        \"ERW\": \"Enhanced Weathering\",\n",
    "        \"Macroalgae\": \"Biomass Sinking\",\n",
    "        \"Mineralisation\": \"Mineral Products\",\n",
    "    },\n",
    "    inplace=True,\n",
    ")\n",
    "df.rename(\n",
    "    variable=dict([(i, f\"Carbon Removal|Novel|{i}\") for i in df.variable]),\n",
    "    inplace=True,\n",
    ")\n",
    "df.aggregate(f\"Carbon Removal|Novel\", append=True)"
   ]
  },
  {
   "cell_type": "code",
   "execution_count": null,
   "id": "10c3d999-5b68-4039-80a1-995bcbd15855",
   "metadata": {},
   "outputs": [],
   "source": [
    "df.rename(unit={\"t CO2\": \"t CO2/yr\"}, inplace=True)"
   ]
  },
  {
   "cell_type": "code",
   "execution_count": null,
   "id": "cafced12-86c6-4eeb-a40f-c784cf64f837",
   "metadata": {},
   "outputs": [],
   "source": [
    "df.convert_unit(\"t CO2/yr\", \"Mt CO2/yr\", inplace=True)"
   ]
  },
  {
   "cell_type": "code",
   "execution_count": null,
   "id": "51c6d43e-0f09-45c8-80e6-26be94fb9ccd",
   "metadata": {},
   "outputs": [],
   "source": [
    "dsd.validate(df)"
   ]
  },
  {
   "cell_type": "code",
   "execution_count": null,
   "id": "c343ae17-15bf-47df-92b9-7f00597ffa69",
   "metadata": {},
   "outputs": [],
   "source": [
    "df.set_meta(\"Chapter 7\", \"Chapter\")"
   ]
  },
  {
   "cell_type": "code",
   "execution_count": null,
   "id": "02c8fbaa-7ad1-464b-8807-a58739ee5f52",
   "metadata": {},
   "outputs": [],
   "source": [
    "# df.to_ixmp4(\"socdr-dev\")"
   ]
  },
  {
   "cell_type": "code",
   "execution_count": null,
   "id": "23fc8727-3430-418c-a5d8-391412b6b6c4",
   "metadata": {},
   "outputs": [],
   "source": []
  },
  {
   "cell_type": "code",
   "execution_count": null,
   "id": "01c77b75-1116-4c63-a79c-35997dc791a3",
   "metadata": {},
   "outputs": [],
   "source": [
    "platform = ixmp4.Platform(\"socdr-dev\")"
   ]
  },
  {
   "cell_type": "code",
   "execution_count": null,
   "id": "20d99902-8e56-4118-9bae-3dc31892d4ae",
   "metadata": {},
   "outputs": [],
   "source": [
    "run = platform.runs.get(**iamc_args)"
   ]
  },
  {
   "cell_type": "code",
   "execution_count": null,
   "id": "99fc724b-2be3-4246-9b90-db0e51ec8124",
   "metadata": {},
   "outputs": [],
   "source": [
    "run.iamc.remove(run.iamc.tabulate())"
   ]
  },
  {
   "cell_type": "code",
   "execution_count": null,
   "id": "97f4e475-96fc-4c3c-8e79-06d3fe14cda7",
   "metadata": {},
   "outputs": [],
   "source": [
    "run.iamc.add(df.data)"
   ]
  },
  {
   "cell_type": "code",
   "execution_count": null,
   "id": "1d232404-f13b-4022-baed-3af9c8641986",
   "metadata": {},
   "outputs": [],
   "source": [
    "platform.units.create(\"Mt CO2/yr\")"
   ]
  },
  {
   "cell_type": "code",
   "execution_count": null,
   "id": "aac4503b-a057-472b-bade-78ab4088ffcc",
   "metadata": {},
   "outputs": [],
   "source": [
    "run.meta"
   ]
  },
  {
   "cell_type": "code",
   "execution_count": null,
   "id": "26b699bb-39fb-434a-aa4b-230891f35661",
   "metadata": {},
   "outputs": [],
   "source": []
  }
 ],
 "metadata": {
  "kernelspec": {
   "display_name": "Python 3 (ipykernel)",
   "language": "python",
   "name": "python3"
  },
  "language_info": {
   "codemirror_mode": {
    "name": "ipython",
    "version": 3
   },
   "file_extension": ".py",
   "mimetype": "text/x-python",
   "name": "python",
   "nbconvert_exporter": "python",
   "pygments_lexer": "ipython3",
   "version": "3.12.2"
  }
 },
 "nbformat": 4,
 "nbformat_minor": 5
}
