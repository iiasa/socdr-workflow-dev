{
 "cells": [
  {
   "cell_type": "code",
   "execution_count": null,
   "id": "abcb8379-6e4d-4ba6-bfda-69f579bec0d0",
   "metadata": {},
   "outputs": [],
   "source": [
    "import pyam\n",
    "import nomenclature"
   ]
  },
  {
   "cell_type": "code",
   "execution_count": null,
   "id": "a205e35e-9d6e-439a-90a7-4c7b828efebf",
   "metadata": {},
   "outputs": [],
   "source": [
    "df_1 = pyam.IamDataFrame(\"source/7/Chapter7_Fig1_final_data.xlsx\")\n",
    "df_2 = pyam.IamDataFrame(\"source/7/Chapter7_Fig2_final_data.xlsx\")\n",
    "df_4 = pyam.IamDataFrame(\"source/7/Chapter7_Fig4_final_data.xlsx\")"
   ]
  },
  {
   "cell_type": "code",
   "execution_count": null,
   "id": "f87d2bce-9ae2-4802-b109-6ba7ac14edea",
   "metadata": {},
   "outputs": [],
   "source": [
    "df = pyam.concat(\n",
    "    [df_1, df_2, df_4]\n",
    ")"
   ]
  },
  {
   "cell_type": "code",
   "execution_count": null,
   "id": "68e07283-1cda-4634-9c51-27aeb9f56a51",
   "metadata": {},
   "outputs": [],
   "source": [
    "df_2.variable"
   ]
  },
  {
   "cell_type": "code",
   "execution_count": null,
   "id": "cef50a9f-1604-487b-b7e3-b83fea922231",
   "metadata": {},
   "outputs": [],
   "source": [
    "dsd = nomenclature.DataStructureDefinition(\"../definitions/\")"
   ]
  },
  {
   "cell_type": "code",
   "execution_count": null,
   "id": "4a1b0acf-2fa0-45fb-ae73-7de8121740d8",
   "metadata": {},
   "outputs": [],
   "source": [
    "mapping = dict(\n",
    "    [\n",
    "        (i, (\n",
    "                i\n",
    "                .replace(\"Direct\", \"Conventional CDR\")\n",
    "                .replace(\"AR6 climate diagnostics\", \"AR6 Climate Diagnostics\")\n",
    "                .replace(\"Gross Emissions\", \"Gross Emissions|CO2 [Reductions relative to 2020]\")\n",
    "                .replace(\"CO2|CO2\", \"CO2\")\n",
    "                .replace(\"AR6 Reanalysis|OSCARv3.2|Carbon Removal|Land|Conventional CDR\", \"Carbon Removal|Land\")\n",
    "            )\n",
    "        )\n",
    "        for i in df.variable\n",
    "    ]\n",
    ")\n",
    "\n",
    "df.rename(variable=mapping, inplace=True)"
   ]
  },
  {
   "cell_type": "code",
   "execution_count": null,
   "id": "3f0baadb-561b-4b9f-af17-23673f6cecb4",
   "metadata": {},
   "outputs": [],
   "source": [
    "df.rename(\n",
    "    model={\"SoCDR_v2\": \"State of CDR (2024) - Paris-Consistent Pathways\"},\n",
    "    inplace=True\n",
    ")"
   ]
  },
  {
   "cell_type": "code",
   "execution_count": null,
   "id": "62c2796d-bf53-4d27-a382-bdcb2b7856ab",
   "metadata": {},
   "outputs": [],
   "source": []
  },
  {
   "cell_type": "code",
   "execution_count": null,
   "id": "c76177ea-b936-4dac-bb9b-0122c286dd86",
   "metadata": {},
   "outputs": [],
   "source": [
    "dsd.validate(df)"
   ]
  },
  {
   "cell_type": "code",
   "execution_count": null,
   "id": "1d8ff3e1-1544-4de8-af9c-3fda301503e9",
   "metadata": {},
   "outputs": [],
   "source": [
    "df.to_excel(\"Chapter8_all_data.xlsx\")"
   ]
  },
  {
   "cell_type": "code",
   "execution_count": null,
   "id": "427623ef-7adf-466e-b80d-bbc5743d4a6b",
   "metadata": {},
   "outputs": [],
   "source": [
    "df"
   ]
  },
  {
   "cell_type": "code",
   "execution_count": null,
   "id": "fac58a68-aef7-4af2-802a-b0a73fb1ee5c",
   "metadata": {},
   "outputs": [],
   "source": [
    "df.to_ixmp4(\"socdr-dev\")"
   ]
  },
  {
   "cell_type": "code",
   "execution_count": null,
   "id": "c65308cd-ec11-44fd-8b17-8c903068be84",
   "metadata": {},
   "outputs": [],
   "source": [
    "import ixmp4"
   ]
  },
  {
   "cell_type": "code",
   "execution_count": null,
   "id": "75a641a4-0a7e-4494-8fd8-96376fb6066a",
   "metadata": {},
   "outputs": [],
   "source": [
    "platform = ixmp4.Platform(\"socdr-dev\")"
   ]
  },
  {
   "cell_type": "code",
   "execution_count": null,
   "id": "5d7ebf49-1969-4370-b5ed-70932dbfddf4",
   "metadata": {},
   "outputs": [],
   "source": [
    "platform.regions.create(\"World\", hierarchy=\"common\")"
   ]
  },
  {
   "cell_type": "code",
   "execution_count": null,
   "id": "14eed714-893c-4bdb-8bca-6c9df27eaed1",
   "metadata": {},
   "outputs": [],
   "source": [
    "platform.units.create(\"Gt CO2/yr\")"
   ]
  },
  {
   "cell_type": "code",
   "execution_count": null,
   "id": "105233ad-b446-4a0a-8824-76465f2e7713",
   "metadata": {},
   "outputs": [],
   "source": [
    "df.set_meta(meta=\"Chapter 8\", name=\"Chapter\")"
   ]
  },
  {
   "cell_type": "code",
   "execution_count": null,
   "id": "778224ef-1007-4d2c-acbc-3352b17c943e",
   "metadata": {},
   "outputs": [],
   "source": [
    "pyam.iiasa.platforms()"
   ]
  },
  {
   "cell_type": "code",
   "execution_count": null,
   "id": "cf861090-ded2-4735-949e-306deab9fe21",
   "metadata": {},
   "outputs": [],
   "source": [
    "df"
   ]
  },
  {
   "cell_type": "code",
   "execution_count": null,
   "id": "c1dc853d-b309-4929-87e0-79ebfb9f0dae",
   "metadata": {},
   "outputs": [],
   "source": []
  }
 ],
 "metadata": {
  "kernelspec": {
   "display_name": "Python 3 (ipykernel)",
   "language": "python",
   "name": "python3"
  },
  "language_info": {
   "codemirror_mode": {
    "name": "ipython",
    "version": 3
   },
   "file_extension": ".py",
   "mimetype": "text/x-python",
   "name": "python",
   "nbconvert_exporter": "python",
   "pygments_lexer": "ipython3",
   "version": "3.12.2"
  }
 },
 "nbformat": 4,
 "nbformat_minor": 5
}
