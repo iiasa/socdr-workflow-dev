{
 "cells": [
  {
   "cell_type": "code",
   "execution_count": null,
   "id": "29bc3161-917f-4719-96f4-eba2fd4ca2d3",
   "metadata": {},
   "outputs": [],
   "source": [
    "import pandas as pd\n",
    "import nomenclature\n",
    "import pyam"
   ]
  },
  {
   "cell_type": "code",
   "execution_count": null,
   "id": "b4f7fdf8-d0e0-4e7b-8c9b-8b58111c2e9c",
   "metadata": {},
   "outputs": [],
   "source": [
    "dsd = nomenclature.DataStructureDefinition(\"../definitions/\")"
   ]
  },
  {
   "cell_type": "code",
   "execution_count": null,
   "id": "77923db2-ccde-4292-9237-ff486f5b0a53",
   "metadata": {},
   "outputs": [],
   "source": [
    "iamc_args = dict(\n",
    "    model=\"State of CDR (2024) - Perceptions\",\n",
    "    scenario=\"Observed Data\",\n",
    ")"
   ]
  },
  {
   "cell_type": "code",
   "execution_count": null,
   "id": "c04991f9-5264-4763-ba1d-974aa79f433e",
   "metadata": {},
   "outputs": [],
   "source": [
    "df_list = list()"
   ]
  },
  {
   "cell_type": "markdown",
   "id": "62b38841-317e-44c7-a138-732bee103b5a",
   "metadata": {},
   "source": [
    "# Indicator 23"
   ]
  },
  {
   "cell_type": "code",
   "execution_count": null,
   "id": "7cde4020-3b91-46fa-97ef-2a54ea5e866b",
   "metadata": {},
   "outputs": [],
   "source": [
    "data = (\n",
    "    pd.read_csv(\"source/6_Perceptions/Ch.6_Fig3a_Indicator23_twitter_counts_by_cdr_method.csv\")\n",
    "    .set_index(\"yr\")\n",
    "    .stack()\n",
    ") / 1000"
   ]
  },
  {
   "cell_type": "code",
   "execution_count": null,
   "id": "5e26b414-3013-4318-ab14-d11175ac1c16",
   "metadata": {},
   "outputs": [],
   "source": [
    "data.index.names = [\"year\", \"variable\"]"
   ]
  },
  {
   "cell_type": "code",
   "execution_count": null,
   "id": "260745dd-bde7-47af-980e-5b196c9c8c7f",
   "metadata": {},
   "outputs": [],
   "source": [
    "df_23 = pyam.IamDataFrame(\n",
    "    data,\n",
    "    **iamc_args,\n",
    "    unit=\"thousand\",\n",
    "    region=\"World\",\n",
    ")"
   ]
  },
  {
   "cell_type": "code",
   "execution_count": null,
   "id": "f4ddf179-2dc5-41da-b731-258e5dd81d5a",
   "metadata": {},
   "outputs": [],
   "source": [
    "variable_prefix = \"Social Media|Number of Tweets\"\n",
    "\n",
    "df_23.rename(\n",
    "    variable={\n",
    "        \"Afforestation - Reforestation\": \"Afforestation and Reforestation\",\n",
    "        \"BECCS\": \"Bioenergy with CCS\",\n",
    "        \"Direct Air Capture\": \"Direct Air Capture with CCS\",\n",
    "        \"Ecosystem Restoration\": \"Peatland Restoration\",\n",
    "        \"Blue Carbon\": \"Coastal Wetland Restoration\",\n",
    "        \"GGR (general)\": \"General CDR\",\n",
    "        \"Ocean Alkalinization\": \"Ocean Alkalinity Enhancement\",\n",
    "    },\n",
    "    inplace=True,\n",
    ")\n",
    "df_23.rename(\n",
    "    variable=dict([(i, f\"{variable_prefix}|{i}\") for i in df_23.variable]),\n",
    "    inplace=True,\n",
    ")\n",
    "df_23.aggregate(variable_prefix, append=True)\n",
    "\n",
    "df_list.append(df_23)"
   ]
  },
  {
   "cell_type": "code",
   "execution_count": null,
   "id": "72a505b9-2993-41c9-a1f5-9225c8349137",
   "metadata": {},
   "outputs": [],
   "source": [
    "dsd.validate(df_23)"
   ]
  },
  {
   "cell_type": "code",
   "execution_count": null,
   "id": "e0ed4de4-6d45-47c6-ba25-1aba8bcfb328",
   "metadata": {},
   "outputs": [],
   "source": [
    "df_23.filter(variable=f\"{variable_prefix}|*\").plot.bar(stacked=True)"
   ]
  },
  {
   "cell_type": "markdown",
   "id": "d1231ddc-ffd4-4a08-bc57-3f9f6bad59db",
   "metadata": {},
   "source": [
    "# Indicator 26"
   ]
  },
  {
   "cell_type": "code",
   "execution_count": null,
   "id": "065afd17-1803-4931-80a6-471518afab2b",
   "metadata": {},
   "outputs": [],
   "source": [
    "df_26 = pyam.IamDataFrame(\n",
    "    \"source/6_Perceptions/figure-data-cdr-media_v2.xlsx\",\n",
    "    sheet_name=\"figure_6.4\",\n",
    "    **iamc_args,\n",
    "    variable=\"var\",\n",
    "    unit=\"\",\n",
    "    region=\"World\",\n",
    ")"
   ]
  },
  {
   "cell_type": "code",
   "execution_count": null,
   "id": "6cf17716-33fd-47d9-8c96-8beb704ba71b",
   "metadata": {},
   "outputs": [],
   "source": [
    "variable_prefix = \"Newspapers|All Publications|Number of Articles\"\n",
    "\n",
    "df_26.rename(\n",
    "    variable={\n",
    "        \"Afforestation/Reforestation\": \"Afforestation and Reforestation\",\n",
    "        \"BECCS\": \"Bioenergy with CCS\",\n",
    "        \"Coastal wetland restoration\": \"Coastal Wetland Restoration\",\n",
    "        \"DAC(CS)\": \"Direct Air Capture with CCS\",\n",
    "        \"Enhanced rock weathering\": \"Enhanced Weathering\",\n",
    "        \"Ocean fertilisation\": \"Ocean Fertilization\",\n",
    "        \"Peatland restoration\": \"Peatland Restoration\",\n",
    "        \"Soil carbon sequestration\": \"Soil Carbon Sequestration\",\n",
    "    },\n",
    "    inplace=True,\n",
    ")\n",
    "df_26.rename(\n",
    "    variable=dict([(i, f\"{variable_prefix}|{i}\") for i in df_26.variable]),\n",
    "    inplace=True,\n",
    ")\n",
    "df_26.aggregate(variable_prefix, append=True)\n",
    "\n",
    "df_list.append(df_26)"
   ]
  },
  {
   "cell_type": "code",
   "execution_count": null,
   "id": "b61bd72c-2183-4358-8cb6-5d6efd8f809a",
   "metadata": {},
   "outputs": [],
   "source": [
    "dsd.validate(df_26)"
   ]
  },
  {
   "cell_type": "code",
   "execution_count": null,
   "id": "74f4f244-b8e3-40d2-a45d-ce3631c60ed2",
   "metadata": {},
   "outputs": [],
   "source": [
    "df_26.filter(variable=f\"{variable_prefix}|*\").plot.bar(stacked=True)"
   ]
  },
  {
   "cell_type": "code",
   "execution_count": null,
   "id": "bc1f4f2e-e734-4b95-b118-7b5d8911cf66",
   "metadata": {},
   "outputs": [],
   "source": [
    "data = pd.read_excel(\"source/6_Perceptions/figure-data-cdr-media_v2.xlsx\", sheet_name=\"figure_6.5\").drop(columns=\"order\")\n",
    "data[\"region\"] = data[\"label\"].apply(lambda x: x.split(\"(\")[1].split(\")\")[0])\n",
    "data[\"label\"] = data[\"label\"].apply(lambda x: x.split(\" (\")[0])"
   ]
  },
  {
   "cell_type": "code",
   "execution_count": null,
   "id": "54ba944c-c77b-4724-b382-2838d4e5034b",
   "metadata": {},
   "outputs": [],
   "source": [
    "data[\"category\"] = \"Newspapers\"\n",
    "data[\"indicator\"] = \"Number of Articles\""
   ]
  },
  {
   "cell_type": "code",
   "execution_count": null,
   "id": "9741a430-4529-45bd-bab3-c11c7cb9fce1",
   "metadata": {},
   "outputs": [],
   "source": [
    "df_26_individual = pyam.IamDataFrame(\n",
    "    data.drop(columns=[\"total\", \"source\", \"source_country\"]),\n",
    "    **iamc_args,\n",
    "    variable=[\"category\", \"label\", \"indicator\", \"var\"],\n",
    "    unit=\"\",\n",
    ")"
   ]
  },
  {
   "cell_type": "code",
   "execution_count": null,
   "id": "b2ab486b-73db-4bcc-95af-5b0012273944",
   "metadata": {},
   "outputs": [],
   "source": [
    "newspapers = data[\"label\"].unique()\n",
    "list(newspapers)"
   ]
  },
  {
   "cell_type": "code",
   "execution_count": null,
   "id": "5bfcd249-874c-4d96-be0e-4ef82a85e4c6",
   "metadata": {},
   "outputs": [],
   "source": [
    "df_26_individual.rename(\n",
    "    variable=dict(\n",
    "        [\n",
    "            (\n",
    "                i, \n",
    "                i.replace(\"Afforestation/Reforestation\", \"Afforestation and Reforestation\")\n",
    "                .replace(\"BECCS\", \"Bioenergy with CCS\")\n",
    "                .replace(\"Coastal wetland restoration\", \"Coastal Wetland Restoration\")\n",
    "                .replace(\"DAC(CS)\", \"Direct Air Capture with CCS\")\n",
    "                .replace(\"Enhanced rock weathering\", \"Enhanced Weathering\")\n",
    "                .replace(\"Soil carbon sequestration\", \"Soil Carbon Sequestration\")\n",
    "                .replace(\"Ocean fertilisation\", \"Ocean Fertilization\")\n",
    "                .replace(\"Peatland restoration\", \"Peatland Restoration\")\n",
    "\n",
    "        ) for i in df_26_individual.variable]\n",
    "    ),\n",
    "    inplace=True,\n",
    ")"
   ]
  },
  {
   "cell_type": "code",
   "execution_count": null,
   "id": "59630dd0-d33d-4b44-94f1-67a3844168a5",
   "metadata": {},
   "outputs": [],
   "source": [
    "for newspaper in newspapers:\n",
    "    df_26_individual.aggregate(f\"Newspapers|{newspaper}|Number of Articles\", append=True)"
   ]
  },
  {
   "cell_type": "code",
   "execution_count": null,
   "id": "6c3bc32e-4019-4bad-8022-185962b0358f",
   "metadata": {},
   "outputs": [],
   "source": [
    "dsd.validate(df_26_individual)"
   ]
  },
  {
   "cell_type": "code",
   "execution_count": null,
   "id": "7f68c2dd-e6df-475d-a30a-23b653332d1a",
   "metadata": {},
   "outputs": [],
   "source": [
    "df_list.append(df_26_individual)"
   ]
  },
  {
   "cell_type": "markdown",
   "id": "ee4ed0b3-f5e3-4e03-b802-f2e1856030bb",
   "metadata": {},
   "source": [
    "# Merge data"
   ]
  },
  {
   "cell_type": "code",
   "execution_count": null,
   "id": "8120b0c4-0fb0-4b3d-9b57-5c1c9d14c68a",
   "metadata": {},
   "outputs": [],
   "source": [
    "df = pyam.concat(df_list)"
   ]
  },
  {
   "cell_type": "code",
   "execution_count": null,
   "id": "0f318b87-50ab-40fb-b13e-382b94e98773",
   "metadata": {},
   "outputs": [],
   "source": [
    "dsd.validate(df)"
   ]
  },
  {
   "cell_type": "code",
   "execution_count": null,
   "id": "b27c70ee-dbe1-4384-a0c8-11ad7510f70a",
   "metadata": {},
   "outputs": [],
   "source": [
    "df.set_meta(\"Chapter 6\", \"Chapter\")"
   ]
  },
  {
   "cell_type": "code",
   "execution_count": null,
   "id": "971be898-0640-48dc-a43e-04b6dcd53fcf",
   "metadata": {},
   "outputs": [],
   "source": [
    "#df.to_ixmp4(\"socdr-dev\")"
   ]
  },
  {
   "cell_type": "code",
   "execution_count": null,
   "id": "065cdfbd-7b77-4cdc-a9b9-129e48fd16f8",
   "metadata": {},
   "outputs": [],
   "source": [
    "import ixmp4"
   ]
  },
  {
   "cell_type": "code",
   "execution_count": null,
   "id": "7bf57f2c-2176-432d-bbd2-15f539a98653",
   "metadata": {},
   "outputs": [],
   "source": [
    "platform = ixmp4.Platform(\"socdr-dev\")"
   ]
  },
  {
   "cell_type": "code",
   "execution_count": null,
   "id": "8c46ef2f-5c54-4149-93ed-84bf3fe4dee1",
   "metadata": {},
   "outputs": [],
   "source": [
    "run = platform.runs.get(**iamc_args)"
   ]
  },
  {
   "cell_type": "code",
   "execution_count": null,
   "id": "bb2467b0-3b56-406b-b617-4e47879e1311",
   "metadata": {},
   "outputs": [],
   "source": [
    "run.iamc.remove(run.iamc.tabulate())"
   ]
  },
  {
   "cell_type": "code",
   "execution_count": null,
   "id": "0216def4-9fa2-4c9f-91e7-0733f312f5ae",
   "metadata": {},
   "outputs": [],
   "source": [
    "run.iamc.add(df.data)"
   ]
  },
  {
   "cell_type": "code",
   "execution_count": null,
   "id": "d609a9c1-e407-4e8a-bf64-2a1f4a8ac20b",
   "metadata": {},
   "outputs": [],
   "source": [
    "df.to_excel(\"socdr-2024_chapter-6_v1.xlsx\")"
   ]
  },
  {
   "cell_type": "code",
   "execution_count": null,
   "id": "bb529ac7-4442-41a4-99d1-8c1d5983acc3",
   "metadata": {},
   "outputs": [],
   "source": []
  }
 ],
 "metadata": {
  "kernelspec": {
   "display_name": "Python 3 (ipykernel)",
   "language": "python",
   "name": "python3"
  },
  "language_info": {
   "codemirror_mode": {
    "name": "ipython",
    "version": 3
   },
   "file_extension": ".py",
   "mimetype": "text/x-python",
   "name": "python",
   "nbconvert_exporter": "python",
   "pygments_lexer": "ipython3",
   "version": "3.12.2"
  }
 },
 "nbformat": 4,
 "nbformat_minor": 5
}
