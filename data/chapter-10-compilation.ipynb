{
 "cells": [
  {
   "cell_type": "code",
   "execution_count": null,
   "id": "52f50e30-bc0b-4f52-825a-3ce6fcd0f8e6",
   "metadata": {},
   "outputs": [],
   "source": [
    "import pandas as pd\n",
    "import ixmp4\n",
    "import nomenclature\n",
    "import pyam"
   ]
  },
  {
   "cell_type": "code",
   "execution_count": null,
   "id": "b99c7099-23e1-4c9a-977d-b07a55b47cd9",
   "metadata": {},
   "outputs": [],
   "source": [
    "iamc_args = dict(\n",
    "    model=\"State of CDR (2024) - Monitoring, Reporting and Verification\",\n",
    "    scenario=\"Observed Data\",\n",
    ")"
   ]
  },
  {
   "cell_type": "code",
   "execution_count": null,
   "id": "10dcdc85-5ea5-4140-820c-ba2dcea4fc1c",
   "metadata": {},
   "outputs": [],
   "source": [
    "dsd = nomenclature.DataStructureDefinition(\"../definitions/\")"
   ]
  },
  {
   "cell_type": "code",
   "execution_count": null,
   "id": "aaeb4255-0738-42f2-a8db-dc51d94fd466",
   "metadata": {},
   "outputs": [],
   "source": [
    "df_list = list()"
   ]
  },
  {
   "cell_type": "markdown",
   "id": "75d9e221-0e27-4d0b-ace3-25e9fd60a52f",
   "metadata": {},
   "source": [
    "## Indicator 34"
   ]
  },
  {
   "cell_type": "code",
   "execution_count": null,
   "id": "5e87859e-0f01-4164-b10e-b586cd2c4423",
   "metadata": {},
   "outputs": [],
   "source": [
    "data = pd.read_excel(\n",
    "    \"source/10_MRV/master_CDR_database_SoCDReditv2.xlsx\",\n",
    "    sheet_name=\"fig 10.3 MRV by year\",\n",
    "    nrows=16\n",
    ")"
   ]
  },
  {
   "cell_type": "code",
   "execution_count": null,
   "id": "cc33df77-b565-4a64-b707-3e146856fd0a",
   "metadata": {},
   "outputs": [],
   "source": [
    "df_34 = pyam.IamDataFrame(\n",
    "    data,\n",
    "    **iamc_args,\n",
    "    region=\"World\",\n",
    "    variable=\"Number of MRV protocols developed by year\",\n",
    "    unit=\"\",\n",
    ")"
   ]
  },
  {
   "cell_type": "code",
   "execution_count": null,
   "id": "89152e53-0008-4490-88fb-0b4eff2069ff",
   "metadata": {},
   "outputs": [],
   "source": [
    "df_34.filter(variable=\"foo\", keep=False, inplace=True)"
   ]
  },
  {
   "cell_type": "code",
   "execution_count": null,
   "id": "6ac74970-bf84-4a71-ad07-37dc63309867",
   "metadata": {},
   "outputs": [],
   "source": [
    "variable_prefix = \"Monitoring, Verification and Reporting|Protocols Developed\"\n",
    "\n",
    "df_34.rename(\n",
    "    variable={\n",
    "        \"Afforestation, reforestation, agroforestry, forest management\": \"Afforestation and Reforestation\",\n",
    "        \"Bioenergy Carbon Capture and Storage\": \"Bioenergy with CCS\",\n",
    "        \"Bio-oil storage\": \"Bio-Oil Storage\",\n",
    "        \"Biomass sinking\": \"Biomass Sinking\",\n",
    "        \"Direct Air Carbon Capture and Storage\": \"Direct Air Capture with CCS\",\n",
    "        \"Direct ocean carbon capture and storage\": \"Direct Ocean Capture\",\n",
    "        \"Durable wood products\": \"Durable Wood Products\",\n",
    "        \"Enhanced rock weathering\": \"Enhanced Weathering\",\n",
    "        \"Ocean alkalinity enhancement\": \"Ocean Alkalinity Enhancement\",\n",
    "        \"Mineral products\": \"Mineral Products\",\n",
    "        \"Peatland and coastal wetland restoration\": \"Peatland and Wetland Restoration\",\n",
    "        \"Soil carbon sequestration in croplands and grasslands\": \"Soil Carbon Sequestration\",\n",
    "        \"Cross method protocol\": \"Cross-Method Protocol\",\n",
    "    },\n",
    "    inplace=True,\n",
    ")\n",
    "df_34.rename(\n",
    "    variable=dict([(i, f\"{variable_prefix}|{i}\") for i in df_34.variable]),\n",
    "    inplace=True,\n",
    ")\n",
    "df_34.aggregate(variable_prefix, append=True)\n",
    "\n",
    "df_list.append(df_34)"
   ]
  },
  {
   "cell_type": "code",
   "execution_count": null,
   "id": "2f9642c7-7468-406e-a978-ec75555c547c",
   "metadata": {},
   "outputs": [],
   "source": [
    "dsd.validate(df_34)"
   ]
  },
  {
   "cell_type": "markdown",
   "id": "64bc0fd0-d33e-44c1-a641-a346750ab876",
   "metadata": {},
   "source": [
    "# Merge data¶"
   ]
  },
  {
   "cell_type": "code",
   "execution_count": null,
   "id": "e61d378b-d662-40bd-b182-6f9c6fbb32ed",
   "metadata": {},
   "outputs": [],
   "source": [
    "df = pyam.concat(df_list)"
   ]
  },
  {
   "cell_type": "code",
   "execution_count": null,
   "id": "ee54a995-1efc-4990-90a8-dfb8c5ac394b",
   "metadata": {},
   "outputs": [],
   "source": [
    "df.set_meta(\"Chapter 10\", \"Chapter\")"
   ]
  },
  {
   "cell_type": "code",
   "execution_count": null,
   "id": "f890b914-ee33-4eb4-859a-84b639c0705c",
   "metadata": {},
   "outputs": [],
   "source": [
    "#df.to_ixmp4(\"socdr-dev\")"
   ]
  },
  {
   "cell_type": "code",
   "execution_count": null,
   "id": "6f9ec61a-86a3-4101-abd3-323195df8b4c",
   "metadata": {},
   "outputs": [],
   "source": [
    "platform = ixmp4.Platform(\"socdr-dev\")"
   ]
  },
  {
   "cell_type": "code",
   "execution_count": null,
   "id": "baecbeb6-2c20-45b9-a63a-277c2d8ebdf1",
   "metadata": {},
   "outputs": [],
   "source": [
    "run = platform.runs.get(**iamc_args)"
   ]
  },
  {
   "cell_type": "code",
   "execution_count": null,
   "id": "9338eee0-c1d4-4866-96ca-f06c63727f5d",
   "metadata": {},
   "outputs": [],
   "source": [
    "run.iamc.remove(run.iamc.tabulate())"
   ]
  },
  {
   "cell_type": "code",
   "execution_count": null,
   "id": "96cb3331-35cd-4308-9c61-f2529f7f38e5",
   "metadata": {},
   "outputs": [],
   "source": [
    "run.iamc.add(df.data)"
   ]
  },
  {
   "cell_type": "code",
   "execution_count": null,
   "id": "d24858ea-b844-4abd-80c3-561d5d5299cf",
   "metadata": {},
   "outputs": [],
   "source": []
  }
 ],
 "metadata": {
  "kernelspec": {
   "display_name": "Python 3 (ipykernel)",
   "language": "python",
   "name": "python3"
  },
  "language_info": {
   "codemirror_mode": {
    "name": "ipython",
    "version": 3
   },
   "file_extension": ".py",
   "mimetype": "text/x-python",
   "name": "python",
   "nbconvert_exporter": "python",
   "pygments_lexer": "ipython3",
   "version": "3.12.2"
  }
 },
 "nbformat": 4,
 "nbformat_minor": 5
}
