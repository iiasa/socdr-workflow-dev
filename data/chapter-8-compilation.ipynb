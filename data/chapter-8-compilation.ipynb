{
 "cells": [
  {
   "cell_type": "code",
   "execution_count": null,
   "id": "abcb8379-6e4d-4ba6-bfda-69f579bec0d0",
   "metadata": {},
   "outputs": [],
   "source": [
    "import pyam\n",
    "import nomenclature"
   ]
  },
  {
   "cell_type": "code",
   "execution_count": null,
   "id": "a205e35e-9d6e-439a-90a7-4c7b828efebf",
   "metadata": {},
   "outputs": [],
   "source": [
    "df_1 = pyam.IamDataFrame(\"source/8_Paris_compatible/Chapter8_Fig1_final_data 1.xlsx\")\n",
    "df_2 = pyam.IamDataFrame(\"source/8_Paris_compatible/Chapter8_Fig2_final_data 2.xlsx\")\n",
    "df_4 = pyam.IamDataFrame(\"source/8_Paris_compatible/Chapter8_Fig4_final_data 2.xlsx\")"
   ]
  },
  {
   "cell_type": "code",
   "execution_count": null,
   "id": "7085c538-9aa4-40a8-bfc8-f02a19226ab5",
   "metadata": {},
   "outputs": [],
   "source": [
    "df_4.variable"
   ]
  },
  {
   "cell_type": "code",
   "execution_count": null,
   "id": "505a0bf4-e3df-4440-96de-4dcf71f210b7",
   "metadata": {},
   "outputs": [],
   "source": [
    "variable_mapping = dict([\n",
    "        (\n",
    "            i, \n",
    "            i.replace(\"Conventional CDR\", \"Carbon Flux [Land]|CDR\")\n",
    "            .replace(\"Inventory-Aligned Carbon Removal\", \"Carbon Flux [Land]\")\n",
    "            .replace(\"Additional Inventory Carbon Removal\", \"Carbon Flux [Land]|Indirect\")\n",
    "        )\n",
    "    for i in df_4.variable])"
   ]
  },
  {
   "cell_type": "code",
   "execution_count": null,
   "id": "df416481-4813-44f2-91c5-5436c191ae43",
   "metadata": {},
   "outputs": [],
   "source": [
    "df_4.rename(\n",
    "    variable=dict([\n",
    "        (\n",
    "            i, \n",
    "            i.replace(\"Conventional CDR\", \"Carbon Flux [Land]|CDR\")\n",
    "            .replace(\"Inventory-Aligned Carbon Removal\", \"Carbon Flux [Land]\")\n",
    "            .replace(\"Additional Inventory Carbon Removal\", \"Carbon Flux [Land]|Indirect\")\n",
    "        )\n",
    "    for i in df_4.variable]),\n",
    "    inplace=True,\n",
    ")"
   ]
  },
  {
   "cell_type": "code",
   "execution_count": null,
   "id": "5a6bd116-a1c7-4d71-8525-4dc62296f613",
   "metadata": {},
   "outputs": [],
   "source": [
    "df_4.rename(\n",
    "    scenario={\n",
    "        \"2020 Modelled values\":  \"All Assessed Scenarios\",\n",
    "        \"2050 C1\": \"C1\",\n",
    "        \"2050 C3\": \"C3\",\n",
    "        \"2050 Current Policies\": \"Current Policies\",\n",
    "    },\n",
    "    inplace=True,\n",
    ")"
   ]
  },
  {
   "cell_type": "code",
   "execution_count": null,
   "id": "8b8853a8-9fbb-4298-be05-d2985de09718",
   "metadata": {},
   "outputs": [],
   "source": [
    "df = pyam.concat(\n",
    "    [df_1, df_2, df_4]\n",
    ")"
   ]
  },
  {
   "cell_type": "code",
   "execution_count": null,
   "id": "68e07283-1cda-4634-9c51-27aeb9f56a51",
   "metadata": {},
   "outputs": [],
   "source": [
    "df.rename(\n",
    "    variable=dict(\n",
    "        [\n",
    "            (\n",
    "                i, \n",
    "                i.replace(\"Conventional CDR\", \"Carbon Removal|Conventional\")\n",
    "                .replace(\"Novel CDR\", \"Carbon Removal|Novel\")\n",
    "                .replace(\"CDR\", \"Carbon Removal\")\n",
    "                .replace(\"Emissions|Kyoto Gases|Gross\", \"Gross Emissions|Kyoto Gases\").\n",
    "                replace(\"[p50]\", \"[Median]\")\n",
    "            )\n",
    "        for i in df.variable]\n",
    "    ),\n",
    "    inplace=True,\n",
    ")\n",
    "\n",
    "df.rename(unit={\"Gt CO2-equiv/yr\": \"Gt CO2e/yr\"}, inplace=True)"
   ]
  },
  {
   "cell_type": "code",
   "execution_count": null,
   "id": "cef50a9f-1604-487b-b7e3-b83fea922231",
   "metadata": {},
   "outputs": [],
   "source": [
    "dsd = nomenclature.DataStructureDefinition(\"../definitions/\")"
   ]
  },
  {
   "cell_type": "code",
   "execution_count": null,
   "id": "3f0baadb-561b-4b9f-af17-23673f6cecb4",
   "metadata": {},
   "outputs": [],
   "source": [
    "df.rename(\n",
    "    model={\"SoCDR_v2\": \"State of CDR (2024) - Paris-Consistent Pathways\"},\n",
    "    inplace=True\n",
    ")"
   ]
  },
  {
   "cell_type": "code",
   "execution_count": null,
   "id": "f0f26815-eda5-48df-9bc9-025ea0d893f6",
   "metadata": {},
   "outputs": [],
   "source": [
    "carbon_removal_df = df.filter(variable=\"Carbon Removal*\")"
   ]
  },
  {
   "cell_type": "code",
   "execution_count": null,
   "id": "c9a1bc81-f711-4b50-b6b5-e274a9ba7f77",
   "metadata": {},
   "outputs": [],
   "source": [
    "carbon_removal_df.rename(unit={\"Gt CO2e/yr\": \"Gt CO2/yr\"}, inplace=True)"
   ]
  },
  {
   "cell_type": "code",
   "execution_count": null,
   "id": "527529ad-7fb3-4552-9f8f-676fdaa5ef7f",
   "metadata": {},
   "outputs": [],
   "source": [
    "df = df.filter(variable=\"Carbon Removal*\", keep=False).append(carbon_removal_df)"
   ]
  },
  {
   "cell_type": "code",
   "execution_count": null,
   "id": "73b6f471-575b-4bfc-a377-f54845a60197",
   "metadata": {},
   "outputs": [],
   "source": [
    "df.variable"
   ]
  },
  {
   "cell_type": "code",
   "execution_count": null,
   "id": "e358eeed-69e7-4800-b9f4-9def3b0ecbe2",
   "metadata": {},
   "outputs": [],
   "source": [
    "df.scenario"
   ]
  },
  {
   "cell_type": "code",
   "execution_count": null,
   "id": "bf35f659-2586-45e4-806d-d9aeea111a2f",
   "metadata": {},
   "outputs": [],
   "source": [
    "df.rename(\n",
    "    scenario={\n",
    "        \"C1\": \"1.5C Low and No Overshoot (>50%) [C1]\",\n",
    "        \"C2\": \"1.5C with High Overshoot (>50% in 2100) [C2]\",\n",
    "        \"C3\": \"2C (>67%) [C3]\",\n",
    "        \"C1 - C3\": \"1.5C (>50%) to 2C (>67%) [C1,C2,C3]\",\n",
    "    },\n",
    "    inplace=True,\n",
    ")"
   ]
  },
  {
   "cell_type": "code",
   "execution_count": null,
   "id": "4914a4fd-59c4-4487-bc39-665f3ac2ad9d",
   "metadata": {},
   "outputs": [],
   "source": [
    "df"
   ]
  },
  {
   "cell_type": "code",
   "execution_count": null,
   "id": "c76177ea-b936-4dac-bb9b-0122c286dd86",
   "metadata": {},
   "outputs": [],
   "source": [
    "dsd.validate(df)"
   ]
  },
  {
   "cell_type": "code",
   "execution_count": null,
   "id": "105233ad-b446-4a0a-8824-76465f2e7713",
   "metadata": {},
   "outputs": [],
   "source": [
    "df.set_meta(meta=\"Chapter 8\", name=\"Chapter\")"
   ]
  },
  {
   "cell_type": "code",
   "execution_count": null,
   "id": "c66b2a47-1abe-4c8a-b6a1-f970a4efefc4",
   "metadata": {},
   "outputs": [],
   "source": [
    "df.filter(scenario=\"*[C1,C2,C3]\").scenario"
   ]
  },
  {
   "cell_type": "code",
   "execution_count": null,
   "id": "b386278a-363f-4823-9739-d23c601ea18f",
   "metadata": {},
   "outputs": [],
   "source": [
    "df.scenario"
   ]
  },
  {
   "cell_type": "code",
   "execution_count": null,
   "id": "707155c3-25e6-4a7e-9d46-74affde95a15",
   "metadata": {},
   "outputs": [],
   "source": []
  },
  {
   "cell_type": "code",
   "execution_count": null,
   "id": "fac58a68-aef7-4af2-802a-b0a73fb1ee5c",
   "metadata": {},
   "outputs": [],
   "source": [
    "df.filter(scenario=\"*[C1,C2,C3]\").to_ixmp4(\"socdr-dev\")"
   ]
  },
  {
   "cell_type": "code",
   "execution_count": null,
   "id": "6a4c6e01-64f4-4b5f-ad62-0e11bec528b3",
   "metadata": {},
   "outputs": [],
   "source": [
    "platform.units.create(\"Gt CO2e/yr\")"
   ]
  },
  {
   "cell_type": "code",
   "execution_count": null,
   "id": "c65308cd-ec11-44fd-8b17-8c903068be84",
   "metadata": {},
   "outputs": [],
   "source": [
    "import ixmp4"
   ]
  },
  {
   "cell_type": "code",
   "execution_count": null,
   "id": "75a641a4-0a7e-4494-8fd8-96376fb6066a",
   "metadata": {},
   "outputs": [],
   "source": [
    "platform = ixmp4.Platform(\"socdr-dev\")"
   ]
  },
  {
   "cell_type": "code",
   "execution_count": null,
   "id": "7f62f560-706f-4be9-9756-fb0437763983",
   "metadata": {},
   "outputs": [],
   "source": [
    "for model, scenario in df.index:\n",
    "    try:\n",
    "        run = platform.runs.get(model, scenario)\n",
    "        run.iamc.remove(run.iamc.tabulate())\n",
    "        run.iamc.add(df.filter(model=model, scenario=scenario).data)\n",
    "    except:\n",
    "        df.filter(model=model, scenario=scenario).to_ixmp4(\"socdr-dev\")\n",
    "        print(\"Created \" + model + \" - \" + scenario)        \n"
   ]
  },
  {
   "cell_type": "code",
   "execution_count": null,
   "id": "fd3e441c-7093-4623-9324-34dd9e063fce",
   "metadata": {},
   "outputs": [],
   "source": [
    "model"
   ]
  },
  {
   "cell_type": "code",
   "execution_count": null,
   "id": "527e6141-7682-45b4-89e8-5baf28babb66",
   "metadata": {},
   "outputs": [],
   "source": [
    "df_online = platform.iamc.tabulate(model=model, run=dict(default_only=True))"
   ]
  },
  {
   "cell_type": "code",
   "execution_count": null,
   "id": "d16b67fe-e6b3-4d33-a5e7-2b92a0b4a1ae",
   "metadata": {},
   "outputs": [],
   "source": [
    "duplicates = df_online[df_online.duplicated()]"
   ]
  },
  {
   "cell_type": "code",
   "execution_count": null,
   "id": "786172e1-496c-459f-87d8-93decf11fec4",
   "metadata": {},
   "outputs": [],
   "source": [
    "list(duplicates.scenario.unique())"
   ]
  },
  {
   "cell_type": "code",
   "execution_count": null,
   "id": "47e3ec45-df29-4b10-aa20-fa7866faa6d2",
   "metadata": {},
   "outputs": [],
   "source": [
    "df.scenario"
   ]
  },
  {
   "cell_type": "code",
   "execution_count": null,
   "id": "f79acf85-ec05-4293-807a-afe7dcc773b2",
   "metadata": {},
   "outputs": [],
   "source": [
    "df_online = pyam.read_ixmp4(\"socdr-dev\", model=model)"
   ]
  },
  {
   "cell_type": "code",
   "execution_count": null,
   "id": "d6c8b626-7525-4cb0-99b7-d8167c5f2d85",
   "metadata": {},
   "outputs": [],
   "source": [
    "df"
   ]
  },
  {
   "cell_type": "code",
   "execution_count": null,
   "id": "5e7fa9d5-b805-4e75-9735-427e5a72e6d6",
   "metadata": {},
   "outputs": [],
   "source": [
    "df_online"
   ]
  },
  {
   "cell_type": "code",
   "execution_count": null,
   "id": "2f389589-eadc-4f98-a01f-f8dcaf73afeb",
   "metadata": {},
   "outputs": [],
   "source": [
    "df.to_excel(\"chapter-8-data.xlsx\")"
   ]
  },
  {
   "cell_type": "code",
   "execution_count": null,
   "id": "c3e9e38b-03f6-4169-ba21-96ef3f7af953",
   "metadata": {},
   "outputs": [],
   "source": []
  }
 ],
 "metadata": {
  "kernelspec": {
   "display_name": "Python 3 (ipykernel)",
   "language": "python",
   "name": "python3"
  },
  "language_info": {
   "codemirror_mode": {
    "name": "ipython",
    "version": 3
   },
   "file_extension": ".py",
   "mimetype": "text/x-python",
   "name": "python",
   "nbconvert_exporter": "python",
   "pygments_lexer": "ipython3",
   "version": "3.12.2"
  }
 },
 "nbformat": 4,
 "nbformat_minor": 5
}
