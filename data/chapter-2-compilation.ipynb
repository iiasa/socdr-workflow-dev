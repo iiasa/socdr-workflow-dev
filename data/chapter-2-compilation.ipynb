{
 "cells": [
  {
   "cell_type": "code",
   "execution_count": null,
   "id": "c8bc24dd-72a9-4a35-a080-c2b9fcdad4dc",
   "metadata": {},
   "outputs": [],
   "source": [
    "import pandas as pd\n",
    "import ixmp4\n",
    "import pyam\n",
    "import nomenclature"
   ]
  },
  {
   "cell_type": "code",
   "execution_count": null,
   "id": "c394a3e7-c100-4703-beaf-99669f389357",
   "metadata": {},
   "outputs": [],
   "source": [
    "iamc_args = dict(\n",
    "    model=\"State of CDR (2024) - Research and Development\",\n",
    "    scenario=\"Observed Data\",\n",
    ")"
   ]
  },
  {
   "cell_type": "code",
   "execution_count": null,
   "id": "61656b62-c03d-41bd-97d3-44278e380488",
   "metadata": {},
   "outputs": [],
   "source": [
    "df_publications = pyam.IamDataFrame(\n",
    "    (\n",
    "        pd.read_excel(\"source/2_Research_Development/SoCDRv2_Scientific_Publications.xlsx\")\n",
    "        .drop(columns=[\"Unnamed: 0\", \"description\"])\n",
    "    ),\n",
    "    **iamc_args,\n",
    ").rename(region={\"USA + CA\": \"North America\"})\n",
    "\n",
    "df_publications.rename(\n",
    "    variable=dict(\n",
    "        [(i, i.replace(\"Research|\", \"Research|Removal|\")) for i in df_publications.variable]\n",
    "    ), \n",
    "    inplace=True,\n",
    ")"
   ]
  },
  {
   "cell_type": "code",
   "execution_count": null,
   "id": "565e4ccc-aef5-4904-a6f7-21107043ba04",
   "metadata": {},
   "outputs": [],
   "source": [
    "groupby = df_publications.timeseries().groupby(\n",
    "    [\"model\", \"scenario\", \"region\"]\n",
    ")\n",
    "\n",
    "for i, _data in groupby:\n",
    "    failing = _data.sum().between(0.1, 0.99)\n",
    "    if any(failing):\n",
    "        print(i)\n",
    "        print(_data.columns[failing])"
   ]
  },
  {
   "cell_type": "code",
   "execution_count": null,
   "id": "574f6d06-faa9-4953-9ddd-8f16c9ba2399",
   "metadata": {},
   "outputs": [],
   "source": [
    "data = (\n",
    "    pd.read_excel(\"source/2_Research_Development/chapter-2-template_BP_v2.xlsx\", sheet_name=\"variable\")\n",
    "    .drop(columns=\"description\")\n",
    ")\n",
    "\n",
    "df_patents = pyam.IamDataFrame(\n",
    "    data,\n",
    "    **iamc_args,\n",
    ").filter(variable=\"Research|Patents*\")\n",
    "\n",
    "df_patents.rename(\n",
    "    variable=dict(\n",
    "        [(i, (\n",
    "            i.replace(\"Research|Patents|Carbon Dioxide Removal\", \"Research|Removal|Patents\")\n",
    "            .replace(\"Research|Patents|Climate Change Mitigation\", \"Research|Mitigation|Patents\")        \n",
    "        )) for i in df_patents.variable]\n",
    "    ), \n",
    "    inplace=True,\n",
    ")"
   ]
  },
  {
   "cell_type": "code",
   "execution_count": null,
   "id": "099b3a84-09bb-4186-9eb7-6579d8d020b2",
   "metadata": {},
   "outputs": [],
   "source": [
    "data = (\n",
    "    pd.read_excel(\"source/2_Research_Development/chapter-2_grants_formatted+funding_corrected2.xlsx\")\n",
    "    .drop(columns=\"description\")\n",
    ")\n",
    "\n",
    "df_grants_funding = pyam.IamDataFrame(\n",
    "    data,\n",
    "    **iamc_args,\n",
    ")\n",
    "\n",
    "df_grants_funding.rename(\n",
    "    variable=dict(\n",
    "        [(i, i.replace(\"Research|\", \"Research|Removal|\")) for i in df_grants_funding.variable]\n",
    "    ), \n",
    "    inplace=True,\n",
    ")"
   ]
  },
  {
   "cell_type": "markdown",
   "id": "d45551e7-1642-41a6-b5cf-77d50ede2ca1",
   "metadata": {},
   "source": [
    "# Merge data"
   ]
  },
  {
   "cell_type": "code",
   "execution_count": null,
   "id": "a107532a-de26-49e6-914a-dde569f0ee4e",
   "metadata": {},
   "outputs": [],
   "source": [
    "df = pyam.concat([df_patents, df_publications, df_grants_funding])"
   ]
  },
  {
   "cell_type": "code",
   "execution_count": null,
   "id": "21c4c6d0-b219-4384-9731-e753b9076437",
   "metadata": {},
   "outputs": [],
   "source": [
    "mapping = dict(\n",
    "    [(i, i.replace(\"[share per year]\", \" [Share]\")) for i in df.variable]\n",
    ")\n",
    "df.rename(variable=mapping, inplace=True)"
   ]
  },
  {
   "cell_type": "code",
   "execution_count": null,
   "id": "f7556261-d68a-4926-b3c0-ee683ff86d3a",
   "metadata": {},
   "outputs": [],
   "source": [
    "mapping = dict(\n",
    "    [(i, i.replace(\"[share per year and region]\", \" [Share]\")) for i in df.variable]\n",
    ")\n",
    "df.rename(variable=mapping, inplace=True)"
   ]
  },
  {
   "cell_type": "code",
   "execution_count": null,
   "id": "c4ce5335-63a2-4fb5-9726-446f1b11ace4",
   "metadata": {},
   "outputs": [],
   "source": [
    "mapping = dict(\n",
    "    [(i, (\n",
    "        i.replace(\"AR\", \"Afforestation and Reforestation\")\n",
    "        .replace(\"BECCS\", \"Bioenergy with CCS\")\n",
    "        .replace(\"DAC(CS)\", \"Direct Air Capture with CCS\")\n",
    "        .replace(\"Restoration of Landscapes and Peats\", \"Peatland and Wetland Restoration\")\n",
    "        .replace(\"Ocean alkalinity enhancement\", \"Ocean Alkalinity Enhancement\")\n",
    "        .replace(\"Forest Management\", \"Improved Forest Management\")\n",
    "        .replace(\"Ocean alkalinity enhancement\", \"Ocean Alkalinity Enhancement\")\n",
    "        .replace(\"Ocean fertilization & Artificial upwelling\", \"Ocean Fertilization\")\n",
    "        .replace(\"Restoration of landscapes/peats\", \"Restoration of Landscapes and Peats\")\n",
    "        .replace(\"Enhanced Weathering (land based)\", \"Enhanced Weathering\")\n",
    "        .replace(\" Literature on CDR/NET\", \"\")\n",
    "        .replace(\"General CDR\", \"General\")\n",
    "    )) for i in df.variable]\n",
    ")\n",
    "df.rename(variable=mapping, inplace=True)"
   ]
  },
  {
   "cell_type": "code",
   "execution_count": null,
   "id": "7204098f-1a0d-4933-89c3-b342c3bd2b5b",
   "metadata": {},
   "outputs": [],
   "source": [
    "mapping = dict(\n",
    "    [\n",
    "        (i, i.replace(\"Restoration of Landscapes and Peats\", \"Peatland and Wetland Restoration\"))\n",
    "        for i in df.variable]\n",
    ")\n",
    "df.rename(variable=mapping, inplace=True)"
   ]
  },
  {
   "cell_type": "code",
   "execution_count": null,
   "id": "2224c6d2-f03c-494e-a996-09c289867e9e",
   "metadata": {},
   "outputs": [],
   "source": [
    "dsd = nomenclature.DataStructureDefinition(\"../definitions/\")"
   ]
  },
  {
   "cell_type": "code",
   "execution_count": null,
   "id": "88bbc9d9-6feb-4d61-b019-89f7e55029ce",
   "metadata": {
    "scrolled": true
   },
   "outputs": [],
   "source": [
    "dsd.validate(df)"
   ]
  },
  {
   "cell_type": "code",
   "execution_count": null,
   "id": "ec083e03-97a8-4dc5-aad1-e866692723c9",
   "metadata": {},
   "outputs": [],
   "source": [
    "shares_df = df.filter(variable=\"* [Share]\")\n",
    "shares_df._data = shares_df._data * 100\n",
    "\n",
    "df = pyam.concat([df.filter(variable=\"* [Share]\", keep=False), shares_df])"
   ]
  },
  {
   "cell_type": "code",
   "execution_count": null,
   "id": "5bbe9ae8-ba15-4657-9fb1-254ead32add1",
   "metadata": {},
   "outputs": [],
   "source": [
    "groupby = df.filter(variable=\"* [Share]\").timeseries().groupby(\n",
    "    [\"model\", \"scenario\", \"region\"]\n",
    ")\n",
    "\n",
    "for i, _data in groupby:\n",
    "    failing = _data.sum().between(0.1, 95)\n",
    "    if any(failing):\n",
    "        print(i)\n",
    "        print(_data.columns[failing])"
   ]
  },
  {
   "cell_type": "code",
   "execution_count": null,
   "id": "b47415a0-436d-4e6e-bed3-c2616c6cbcb0",
   "metadata": {},
   "outputs": [],
   "source": [
    "df_active_share = df.filter(variable=\"*Active Grants*\", region=\"World\")"
   ]
  },
  {
   "cell_type": "code",
   "execution_count": null,
   "id": "699d1114-3641-4315-acc1-5d908ec55322",
   "metadata": {},
   "outputs": [],
   "source": [
    "df_active_share.rename(variable={\"Research|Removal|Active Grants\": \"foo\"}, inplace=True)"
   ]
  },
  {
   "cell_type": "code",
   "execution_count": null,
   "id": "ca697219-aa15-41c8-addd-2dbef925f2d4",
   "metadata": {},
   "outputs": [],
   "source": [
    "df_active_share.aggregate(\"Research|Removal|Active Grants\", append=True)"
   ]
  },
  {
   "cell_type": "code",
   "execution_count": null,
   "id": "52b963a2-1048-430b-88ee-e461d32a2ea1",
   "metadata": {},
   "outputs": [],
   "source": [
    "df_list = []\n",
    "\n",
    "for v in df_active_share.filter(variable=\"Research|Removal|Active Grants|*\").variable:\n",
    "    _df = df_active_share.divide(v, \"Research|Removal|Active Grants\", f\"{v} [Share]\", ignore_units=\"%\")\n",
    "    _df._data = _df._data * 100\n",
    "    df_list.append(_df)\n",
    "\n",
    "df.append(pyam.concat(df_list), inplace=True)"
   ]
  },
  {
   "cell_type": "code",
   "execution_count": null,
   "id": "10463567-fa04-4de9-914f-3197261eca30",
   "metadata": {},
   "outputs": [],
   "source": [
    "dsd.validate(df)"
   ]
  },
  {
   "cell_type": "code",
   "execution_count": null,
   "id": "d16ef3c7-2bd2-49a6-8dfd-fd42f4986b74",
   "metadata": {},
   "outputs": [],
   "source": [
    "df.append(\n",
    "    df.filter(region=\"World\", keep=False).aggregate(\"Research|Removal|Publications\"),\n",
    "    inplace=True,\n",
    ")"
   ]
  },
  {
   "cell_type": "code",
   "execution_count": null,
   "id": "3710eead-93ef-4f9c-8d52-93924811d02c",
   "metadata": {},
   "outputs": [],
   "source": [
    "#df.to_ixmp4(\"socdr-dev\")"
   ]
  },
  {
   "cell_type": "code",
   "execution_count": null,
   "id": "7e76c405-55c8-4dc1-8ee9-281c0b60e869",
   "metadata": {},
   "outputs": [],
   "source": [
    "df.to_excel(\"socdr-chapter-2-data_v4.xlsx\")"
   ]
  },
  {
   "cell_type": "code",
   "execution_count": null,
   "id": "2c10303c-296c-4356-a939-8cd2be53884d",
   "metadata": {},
   "outputs": [],
   "source": [
    "import ixmp4"
   ]
  },
  {
   "cell_type": "code",
   "execution_count": null,
   "id": "9abe322b-a5d0-4630-90ed-9bac8bb66166",
   "metadata": {},
   "outputs": [],
   "source": [
    "platform = ixmp4.Platform(\"socdr-dev\")"
   ]
  },
  {
   "cell_type": "code",
   "execution_count": null,
   "id": "d44328b7-d7c6-407a-ad7e-13a14fb4eee8",
   "metadata": {},
   "outputs": [],
   "source": [
    "run = platform.runs.get(**iamc_args)"
   ]
  },
  {
   "cell_type": "code",
   "execution_count": null,
   "id": "469b9497-9471-4e84-9e77-66f9776ede7e",
   "metadata": {},
   "outputs": [],
   "source": [
    "run.iamc.remove(run.iamc.tabulate())"
   ]
  },
  {
   "cell_type": "code",
   "execution_count": null,
   "id": "773415b5-28d7-498f-ba97-5b00ad4fedc8",
   "metadata": {},
   "outputs": [],
   "source": [
    "run.iamc.add(df.data)"
   ]
  },
  {
   "cell_type": "code",
   "execution_count": null,
   "id": "350464ca-fb1f-4669-bfcb-2158a7258964",
   "metadata": {},
   "outputs": [],
   "source": [
    "run.meta[\"Chapter\"] = \"Chapter 2\""
   ]
  },
  {
   "cell_type": "code",
   "execution_count": null,
   "id": "ddf81f56-a6a0-4134-b8b1-3faffb412478",
   "metadata": {},
   "outputs": [],
   "source": []
  }
 ],
 "metadata": {
  "kernelspec": {
   "display_name": "Python 3 (ipykernel)",
   "language": "python",
   "name": "python3"
  },
  "language_info": {
   "codemirror_mode": {
    "name": "ipython",
    "version": 3
   },
   "file_extension": ".py",
   "mimetype": "text/x-python",
   "name": "python",
   "nbconvert_exporter": "python",
   "pygments_lexer": "ipython3",
   "version": "3.12.2"
  }
 },
 "nbformat": 4,
 "nbformat_minor": 5
}
