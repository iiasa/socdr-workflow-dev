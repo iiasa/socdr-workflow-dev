{
 "cells": [
  {
   "cell_type": "code",
   "execution_count": 1,
   "id": "24f30cf5-6faf-41ec-815b-ea33a7cf9b77",
   "metadata": {},
   "outputs": [],
   "source": [
    "import pyam\n",
    "import nomenclature"
   ]
  },
  {
   "cell_type": "code",
   "execution_count": 2,
   "id": "5e45c099-9a43-4c1b-b414-6df5497e90c8",
   "metadata": {},
   "outputs": [],
   "source": [
    "dsd = nomenclature.DataStructureDefinition(\"definitions/\")"
   ]
  },
  {
   "cell_type": "code",
   "execution_count": 3,
   "id": "a86890de-1454-4cf2-9dc8-31ccde7eb66a",
   "metadata": {},
   "outputs": [],
   "source": [
    "dsd.to_excel(\"chapter-2-template.xlsx\")"
   ]
  },
  {
   "cell_type": "code",
   "execution_count": null,
   "id": "e0195528-536d-4596-8572-efd2cfe295d4",
   "metadata": {},
   "outputs": [],
   "source": []
  }
 ],
 "metadata": {
  "kernelspec": {
   "display_name": "Python 3 (ipykernel)",
   "language": "python",
   "name": "python3"
  },
  "language_info": {
   "codemirror_mode": {
    "name": "ipython",
    "version": 3
   },
   "file_extension": ".py",
   "mimetype": "text/x-python",
   "name": "python",
   "nbconvert_exporter": "python",
   "pygments_lexer": "ipython3",
   "version": "3.12.2"
  }
 },
 "nbformat": 4,
 "nbformat_minor": 5
}
