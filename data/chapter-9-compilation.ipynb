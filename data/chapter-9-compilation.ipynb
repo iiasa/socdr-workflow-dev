{
 "cells": [
  {
   "cell_type": "code",
   "execution_count": null,
   "id": "b53a402b-9a61-48a3-984b-b0d50d5da849",
   "metadata": {},
   "outputs": [],
   "source": [
    "import pandas as pd\n",
    "import pyam\n",
    "import nomenclature"
   ]
  },
  {
   "cell_type": "code",
   "execution_count": null,
   "id": "a85d0ada-bf03-497e-9f45-133e87d5cc7f",
   "metadata": {},
   "outputs": [],
   "source": [
    "iamc_args = dict(\n",
    "    model=\"State of CDR (2024) - CDR Gap\",\n",
    "    region=\"World\",\n",
    "    unit=\"Gt CO2/yr\",\n",
    ")"
   ]
  },
  {
   "cell_type": "code",
   "execution_count": null,
   "id": "1cbd4e16-d8f7-4bdb-b7c2-4694b66c7b5c",
   "metadata": {},
   "outputs": [],
   "source": [
    "dsd = nomenclature.DataStructureDefinition(\"../definitions/\")"
   ]
  },
  {
   "cell_type": "markdown",
   "id": "f7a1cde8-4c28-42ec-a0fd-c58f5a487a48",
   "metadata": {},
   "source": [
    "# Panel 9.2a"
   ]
  },
  {
   "cell_type": "code",
   "execution_count": null,
   "id": "3fcbde44-5647-4122-b4f9-9c02536a38a9",
   "metadata": {},
   "outputs": [],
   "source": [
    "def replace_stat(prefix, mapping, i):\n",
    "    for key, value in mapping.items():\n",
    "        i = i.replace(key, value)\n",
    "\n",
    "    return f\"{prefix} [{i}]\""
   ]
  },
  {
   "cell_type": "code",
   "execution_count": null,
   "id": "fc4872b4-2212-474a-a0e1-019a4ab455dc",
   "metadata": {},
   "outputs": [],
   "source": [
    "column_mapping = {\n",
    "    \"value\": \"Median\",\n",
    "    \"max\": \"Maximum\",\n",
    "    \"min\": \"Minimum\"    \n",
    "}\n",
    "\n",
    "\n",
    "current_df = pyam.IamDataFrame(\n",
    "    \"source/9_gap/Ch9_fig2_gap_data.xlsx\",\n",
    "    sheet_name=\"panel_a_current\",\n",
    "    **iamc_args,\n",
    "    scenario=\"Historical Reference\",\n",
    "    value=list(column_mapping),\n",
    ")\n",
    "current_df.rename(\n",
    "    variable=dict([(i, replace_stat(\"Carbon Removal\", column_mapping, i)) for i in current_df.variable]),\n",
    "    inplace=True\n",
    ")"
   ]
  },
  {
   "cell_type": "code",
   "execution_count": null,
   "id": "09b758d9-0d51-4b5b-9bf3-dd7df9cbe6d4",
   "metadata": {},
   "outputs": [],
   "source": [
    "column_mapping = {\n",
    "    \"median\": \"Median\",\n",
    "    \"percentile_5th\": \"p05\",\t\n",
    "    \"percentile_95th\": \"p95\",\t\n",
    "    \"percentile_25th\": \"p25\",\t\n",
    "    \"percentile_75th\": \"p75\",\t\n",
    "    \"max\": \"Maximum\",\n",
    "    \"min\": \"Minimum\"    \n",
    "}\n",
    "\n",
    "data = pd.read_excel(\"source/9_gap/Ch9_fig2_gap_data.xlsx\", sheet_name=\"panel_a_scenario_range\").drop(columns=\"var\")\n",
    "\n",
    "range_df = pyam.IamDataFrame(\n",
    "    data,\n",
    "    **iamc_args,\n",
    "    scenario=\"Paris-Relevant Scenarios\",\n",
    "    value=list(column_mapping),\n",
    ")\n",
    "range_df.rename(\n",
    "    variable=dict([(i, replace_stat(\"Carbon Removal\", column_mapping, i)) for i in range_df.variable]),\n",
    "    inplace=True,\n",
    ")"
   ]
  },
  {
   "cell_type": "code",
   "execution_count": null,
   "id": "1fbe3b46-32a9-4b1f-a877-767543e068d5",
   "metadata": {},
   "outputs": [],
   "source": [
    "imp_df = pyam.IamDataFrame(\n",
    "    \"source/9_gap/Ch9_fig2_gap_data.xlsx\",\n",
    "    sheet_name=\"panel_a_imp_pathways\",\n",
    "    **iamc_args,\n",
    "    scenario=\"imp\",\n",
    "    variable=\"Carbon Removal\",\n",
    ")"
   ]
  },
  {
   "cell_type": "code",
   "execution_count": null,
   "id": "87600dcd-bb23-48c4-9fe2-f7caee2c8c48",
   "metadata": {},
   "outputs": [],
   "source": [
    "type_df = pyam.IamDataFrame(\n",
    "    \"source/9_gap/Ch9_fig2_gap_data.xlsx\",\n",
    "    sheet_name=\"panel_b_bar_plots\",\n",
    "    usecols=\"C,E:G\",\n",
    "    **iamc_args,\n",
    "    scenario=\"imp\",\n",
    "    variable=\"var\"\n",
    ")\n",
    "\n",
    "type_df.rename(\n",
    "    variable={\n",
    "        \"Novel CDR\": \"Carbon Removal|Novel\", \n",
    "        \"carbon_removal_land_direct\": \"Carbon Removal|Conventional\"\n",
    "    },\n",
    "    inplace=True,\n",
    ")\n",
    "\n",
    "type_df.rename(\n",
    "    scenario={\n",
    "        \"Current CDR\": \"Historical Reference\", \n",
    "    },\n",
    "    inplace=True,\n",
    ")"
   ]
  },
  {
   "cell_type": "code",
   "execution_count": null,
   "id": "10b1c5e3-4e4f-4d52-865b-9ea993cb8319",
   "metadata": {},
   "outputs": [],
   "source": [
    "type_df.scenario"
   ]
  },
  {
   "cell_type": "code",
   "execution_count": null,
   "id": "1d0da139-d432-487c-a30b-8b00ac82b776",
   "metadata": {},
   "outputs": [],
   "source": [
    "df = pyam.concat([current_df, range_df, imp_df, type_df])"
   ]
  },
  {
   "cell_type": "code",
   "execution_count": null,
   "id": "dc1d5352-ca20-421c-aa01-6b35a63a08e4",
   "metadata": {},
   "outputs": [],
   "source": [
    "df.plot()"
   ]
  },
  {
   "cell_type": "code",
   "execution_count": null,
   "id": "5c894378-cf10-4aa5-a244-2993bfbaf2b6",
   "metadata": {},
   "outputs": [],
   "source": [
    "dsd.validate(df)"
   ]
  },
  {
   "cell_type": "markdown",
   "id": "726655b9-1cd1-463d-9da9-d0bc79b55854",
   "metadata": {},
   "source": [
    "# Upload to database"
   ]
  },
  {
   "cell_type": "code",
   "execution_count": null,
   "id": "6055db95-9102-4b7a-bdb6-860e90d63114",
   "metadata": {},
   "outputs": [],
   "source": [
    "df.set_meta(\"Chapter 9\", \"Chapter\")"
   ]
  },
  {
   "cell_type": "code",
   "execution_count": null,
   "id": "44c3566f-f5be-467d-a22f-43d29359a9a3",
   "metadata": {},
   "outputs": [],
   "source": [
    "df.to_ixmp4(\"socdr-dev\")"
   ]
  },
  {
   "cell_type": "code",
   "execution_count": null,
   "id": "920f67a0-577f-4336-8223-d303a474d2f0",
   "metadata": {},
   "outputs": [],
   "source": []
  }
 ],
 "metadata": {
  "kernelspec": {
   "display_name": "Python 3 (ipykernel)",
   "language": "python",
   "name": "python3"
  },
  "language_info": {
   "codemirror_mode": {
    "name": "ipython",
    "version": 3
   },
   "file_extension": ".py",
   "mimetype": "text/x-python",
   "name": "python",
   "nbconvert_exporter": "python",
   "pygments_lexer": "ipython3",
   "version": "3.12.2"
  }
 },
 "nbformat": 4,
 "nbformat_minor": 5
}
