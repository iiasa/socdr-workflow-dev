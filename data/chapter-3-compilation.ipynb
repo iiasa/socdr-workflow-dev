{
 "cells": [
  {
   "cell_type": "code",
   "execution_count": null,
   "id": "14e8a5b0-743a-4ff9-b4ae-10d395cb5efc",
   "metadata": {},
   "outputs": [],
   "source": [
    "import pandas as pd\n",
    "import ixmp4\n",
    "import nomenclature\n",
    "import pyam"
   ]
  },
  {
   "cell_type": "code",
   "execution_count": null,
   "id": "b9f9b318-e28d-4a82-a69a-05c21db23dbf",
   "metadata": {},
   "outputs": [],
   "source": [
    "iamc_args = dict(\n",
    "    model=\"State of CDR (2024) - Demonstration and Upscaling\",\n",
    "    scenario=\"Observed Data\",\n",
    ")"
   ]
  },
  {
   "cell_type": "code",
   "execution_count": null,
   "id": "0002c878-85e8-4bc0-928e-607ed56e1ba1",
   "metadata": {},
   "outputs": [],
   "source": [
    "dsd = nomenclature.DataStructureDefinition(\"../definitions/\")"
   ]
  },
  {
   "cell_type": "code",
   "execution_count": null,
   "id": "1f42cbea-a4f1-405a-ac2b-eebac480299f",
   "metadata": {},
   "outputs": [],
   "source": [
    "data_start_up = pd.read_excel(\"source/3_Demonstration/chapter-3-start-up-template.xlsx\")"
   ]
  },
  {
   "cell_type": "code",
   "execution_count": null,
   "id": "b508e969-f953-49b9-8431-a490d0e4b3e8",
   "metadata": {},
   "outputs": [],
   "source": [
    "data_start_up[\"Unit\"].fillna(\"\", inplace=True)\n",
    "data_start_up.drop(columns=\"Description\", inplace=True)"
   ]
  },
  {
   "cell_type": "code",
   "execution_count": null,
   "id": "e1c5bc4c-5524-4465-9dc5-0bb14c9c258c",
   "metadata": {
    "scrolled": true
   },
   "outputs": [],
   "source": [
    "data_start_up_1 = data_start_up[\n",
    "    [(\"Start-Up Investment|Deals\" == v or \"Start-Up Investment|Funding\" == v or \"Share\" in v) for v in data_start_up.Variable]\n",
    "]"
   ]
  },
  {
   "cell_type": "code",
   "execution_count": null,
   "id": "84b1b710-f3f2-4f83-87b4-adcebe6b69df",
   "metadata": {},
   "outputs": [],
   "source": [
    "data_start_up_2 = data_start_up[\n",
    "    [(\"Start-Up Investment|Deals\" != v and \"Start-Up Investment|Funding\" != v and \"Share\" not in v) for v in data_start_up.Variable]\n",
    "].fillna(0)"
   ]
  },
  {
   "cell_type": "code",
   "execution_count": null,
   "id": "31d20057-5e26-4d5c-b5b0-ba28dc31f9a0",
   "metadata": {
    "scrolled": true
   },
   "outputs": [],
   "source": [
    "df = pyam.concat(\n",
    "    [data_start_up_1, data_start_up_2],\n",
    "    **iamc_args,\n",
    ")"
   ]
  },
  {
   "cell_type": "code",
   "execution_count": null,
   "id": "f64dc8cb-5c08-4d23-a907-78e2fecd85c8",
   "metadata": {},
   "outputs": [],
   "source": [
    "df.rename(\n",
    "    variable={\n",
    "        \"Start-Up Investment|Deals\": \"Start-Up|All Net-Zero Initiatives|Deals\",\n",
    "        \"Start-Up Investment|Funding\": \"Start-Up|All Net-Zero Initiatives|Funding\",\n",
    "    },\n",
    "    inplace=True,\n",
    ")"
   ]
  },
  {
   "cell_type": "code",
   "execution_count": null,
   "id": "57269350-a8de-4c08-8e0c-f8d8941b79fd",
   "metadata": {},
   "outputs": [],
   "source": [
    "df.rename(\n",
    "    variable=dict(\n",
    "        {\n",
    "          (\n",
    "              i, \n",
    "              (\n",
    "                  i.replace(\"|Removal\", \"\")\n",
    "                  .replace(\"Start-Up Investment\", \"Start-Up|Removal\")\n",
    "                  .replace(\"BECCS\", \"Bioenergy with CCS\")\n",
    "                  .replace(\"DAC(CS)\", \"Direct Air Capture with CCS\")\n",
    "                  .replace(\"DOC(CS)\", \"Direct Ocean Capture\")\n",
    "                  .replace(\"Soil Carbon\", \"Soil Carbon Sequestration\")\n",
    "              )\n",
    "          )\n",
    "            for i in df.variable\n",
    "        },\n",
    "    ),\n",
    "    inplace=True,\n",
    ")"
   ]
  },
  {
   "cell_type": "code",
   "execution_count": null,
   "id": "eef5c8ef-5897-4bdb-9951-98c5a4c83da7",
   "metadata": {},
   "outputs": [],
   "source": [
    "startup_number = pd.read_csv(\"source/3_Demonstration/fig2a_v2.csv\")"
   ]
  },
  {
   "cell_type": "code",
   "execution_count": null,
   "id": "b86fbe79-517f-4a70-8003-a63771e9a812",
   "metadata": {},
   "outputs": [],
   "source": [
    "df_startup_number = pyam.IamDataFrame(\n",
    "    startup_number.rename(columns={\"Year.founded\": \"Year\", \"Method\": \"Variable\", \"Num.startups\": \"value\"}),\n",
    "    **iamc_args,\n",
    "    region=\"World\",\n",
    "    unit=\"\",\n",
    ")"
   ]
  },
  {
   "cell_type": "code",
   "execution_count": null,
   "id": "666a7f3e-f2dc-40bf-aa1d-89723036736e",
   "metadata": {},
   "outputs": [],
   "source": [
    "df_startup_number.rename(\n",
    "    variable=dict(\n",
    "        {\n",
    "          (\n",
    "              i, \"Start-Up|Removal|Number of Firms|\" +\n",
    "              (\n",
    "                  i\n",
    "                  .replace(\"BECCS\", \"Bioenergy with CCS\")\n",
    "                  .replace(\"Blue carbon\", \"Blue Carbon\")\n",
    "                  .replace(\"DACCS\", \"Direct Air Capture with CCS\")\n",
    "                  .replace(\"DOCCS\", \"Direct Ocean Capture\")\n",
    "                  .replace(\"Soil carbon\", \"Soil Carbon Sequestration\")\n",
    "                  .replace(\"Biomass burial\", \"Biomass Burial\")\n",
    "                  .replace(\"Enhanced weathering\", \"Enhanced Weathering\")\n",
    "                  .replace(\"Marine biomass\", \"Biomass Sinking\")\n",
    "                  .replace(\"OAE\", \"Ocean Alkalinity Enhancement\")\n",
    "                  \n",
    "              )\n",
    "          )\n",
    "            for i in df_startup_number.variable\n",
    "        },\n",
    "    ),\n",
    "    inplace=True,\n",
    ")"
   ]
  },
  {
   "cell_type": "code",
   "execution_count": null,
   "id": "4d0b3a5b-483b-4fb0-8634-7d07bae6ae00",
   "metadata": {},
   "outputs": [],
   "source": [
    "df_startup_number.plot.bar(stacked=True)"
   ]
  },
  {
   "cell_type": "code",
   "execution_count": null,
   "id": "c240f5e4-d103-4b08-8793-533365aee2de",
   "metadata": {},
   "outputs": [],
   "source": [
    "df_startup_number.aggregate(\"Start-Up|Removal|Number of Firms\", append=True)"
   ]
  },
  {
   "cell_type": "code",
   "execution_count": null,
   "id": "c94fc7db-426d-4932-b4ca-39d51fd4de0f",
   "metadata": {},
   "outputs": [],
   "source": [
    "df_planned_projects = pyam.IamDataFrame(\n",
    "    \"source/3_Demonstration/JG_Chapter-3-planned-announced-projects.xlsx\",\n",
    "    sheet_name=\"Fig 3.4 - planned projects\",\n",
    ")"
   ]
  },
  {
   "cell_type": "code",
   "execution_count": null,
   "id": "db24dc9b-c81c-4925-b974-d11d65fe39a0",
   "metadata": {},
   "outputs": [],
   "source": [
    "df_planned_projects.rename(\n",
    "    variable={\n",
    "        \"DACCS\": \"Carbon Removal|Novel|Direct Air Capture with CCS\",\n",
    "        \"Total BECCS\": \"Carbon Removal|Novel|Bioenergy with CCS\"\n",
    "    },\n",
    "    inplace=True,\n",
    ")\n",
    "df_planned_projects.convert_unit(\"t CO2\", \"Gt CO2/yr\", factor=0.000000001, inplace=True)"
   ]
  },
  {
   "cell_type": "code",
   "execution_count": null,
   "id": "0bffda16-7670-47a4-8085-6b01f795c5f4",
   "metadata": {},
   "outputs": [],
   "source": [
    "df_announced_projects = pyam.IamDataFrame(\n",
    "    \"source/3_Demonstration/JG_Chapter-3-planned-announced-projects.xlsx\",\n",
    "    sheet_name=\"Fig 3.5 - announced projects\",\n",
    ")"
   ]
  },
  {
   "cell_type": "code",
   "execution_count": null,
   "id": "8976e43b-26bc-40d3-a97d-330315ce6796",
   "metadata": {},
   "outputs": [],
   "source": [
    "df_announced_projects.rename(\n",
    "    variable=dict(\n",
    "        {\n",
    "          (\n",
    "              i, \"Carbon Removal|Novel|\" +\n",
    "              (\n",
    "                  i\n",
    "                  .replace(\"BECCS\", \"Bioenergy with CCS\")\n",
    "                  .replace(\"DAC\", \"Direct Air Capture with CCS\")\n",
    "                  .replace(\"BECCS and DAC\", \"Bioenergy and Direct Air Capture with CCS\")\n",
    "                  .replace(\"sinking\", \"Sinking\")\n",
    "                  .replace(\"Rock \", \"\")\n",
    "                  .replace(\"Ocean Alkanization\", \"Ocean Alkalinity Enhancement\")\n",
    "              )\n",
    "          )\n",
    "            for i in df_announced_projects.variable\n",
    "        },\n",
    "    ),\n",
    "    inplace=True,\n",
    ")\n",
    "\n",
    "df_announced_projects.convert_unit(\"t CO2\", \"Gt CO2/yr\", factor=0.000000001, inplace=True)"
   ]
  },
  {
   "cell_type": "code",
   "execution_count": null,
   "id": "91efd9ad-666a-4fff-ad1a-f37d9420a7d4",
   "metadata": {},
   "outputs": [],
   "source": [
    "df_announced_projects.rename(\n",
    "    scenario={\n",
    "        \"CDR Company Announcements (Long-Term)\": \"Announced CDR Projects (Long-Term)\"\n",
    "    },\n",
    "    inplace=True,\n",
    ")"
   ]
  },
  {
   "cell_type": "code",
   "execution_count": null,
   "id": "518cf463-b8ae-4561-95a2-b2d8b9633028",
   "metadata": {},
   "outputs": [],
   "source": [
    "final_df = pyam.concat(\n",
    "    [df, df_startup_number, df_planned_projects, df_announced_projects]\n",
    ")"
   ]
  },
  {
   "cell_type": "code",
   "execution_count": null,
   "id": "1e06847f-f910-4664-8586-2de1aa305f52",
   "metadata": {},
   "outputs": [],
   "source": [
    "dsd.validate(final_df)"
   ]
  },
  {
   "cell_type": "code",
   "execution_count": null,
   "id": "52de79b2-3bf0-4d6d-ab48-8a81fb7f241f",
   "metadata": {},
   "outputs": [],
   "source": [
    "platform = ixmp4.Platform(\"socdr-dev\")"
   ]
  },
  {
   "cell_type": "code",
   "execution_count": null,
   "id": "7834fe85-82e8-4783-9d1e-f27073940b5e",
   "metadata": {},
   "outputs": [],
   "source": [
    "final_df.set_meta(\"Chapter 3\", \"Chapter\")"
   ]
  },
  {
   "cell_type": "code",
   "execution_count": null,
   "id": "f3bb894b-65ba-46c3-ad3a-25e4b0ac15e7",
   "metadata": {},
   "outputs": [],
   "source": [
    "for model, scenario in final_df.index:\n",
    "    run = platform.runs.get(model, scenario)\n",
    "    run.iamc.remove(run.iamc.tabulate())\n",
    "    run.iamc.add(final_df.filter(scenario=scenario).data)"
   ]
  },
  {
   "cell_type": "code",
   "execution_count": null,
   "id": "b0ccce6e-43ba-4119-8564-89beb21d8048",
   "metadata": {},
   "outputs": [],
   "source": [
    "#df.to_ixmp4(platform)"
   ]
  },
  {
   "cell_type": "code",
   "execution_count": null,
   "id": "5e675b08-5ca1-43b5-8576-5b92b72808b9",
   "metadata": {},
   "outputs": [],
   "source": []
  }
 ],
 "metadata": {
  "kernelspec": {
   "display_name": "Python 3 (ipykernel)",
   "language": "python",
   "name": "python3"
  },
  "language_info": {
   "codemirror_mode": {
    "name": "ipython",
    "version": 3
   },
   "file_extension": ".py",
   "mimetype": "text/x-python",
   "name": "python",
   "nbconvert_exporter": "python",
   "pygments_lexer": "ipython3",
   "version": "3.12.2"
  }
 },
 "nbformat": 4,
 "nbformat_minor": 5
}
