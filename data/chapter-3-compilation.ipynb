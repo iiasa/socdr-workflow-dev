{
 "cells": [
  {
   "cell_type": "code",
   "execution_count": null,
   "id": "14e8a5b0-743a-4ff9-b4ae-10d395cb5efc",
   "metadata": {},
   "outputs": [],
   "source": [
    "import pandas as pd\n",
    "import ixmp4\n",
    "import nomenclature\n",
    "import pyam"
   ]
  },
  {
   "cell_type": "code",
   "execution_count": null,
   "id": "b9f9b318-e28d-4a82-a69a-05c21db23dbf",
   "metadata": {},
   "outputs": [],
   "source": [
    "iamc_args = dict(\n",
    "    model=\"State of CDR (2024) - Demonstration and Upscaling\",\n",
    "    scenario=\"Historical Reference\",\n",
    ")"
   ]
  },
  {
   "cell_type": "code",
   "execution_count": null,
   "id": "0002c878-85e8-4bc0-928e-607ed56e1ba1",
   "metadata": {},
   "outputs": [],
   "source": [
    "dsd = nomenclature.DataStructureDefinition(\"../definitions/\")"
   ]
  },
  {
   "cell_type": "code",
   "execution_count": null,
   "id": "1f42cbea-a4f1-405a-ac2b-eebac480299f",
   "metadata": {},
   "outputs": [],
   "source": [
    "data_start_up = pd.read_excel(\"source/3_Demonstration/chapter-3-start-up-template.xlsx\")"
   ]
  },
  {
   "cell_type": "code",
   "execution_count": null,
   "id": "b508e969-f953-49b9-8431-a490d0e4b3e8",
   "metadata": {},
   "outputs": [],
   "source": [
    "data_start_up[\"Unit\"].fillna(\"\", inplace=True)\n",
    "data_start_up.drop(columns=\"Description\", inplace=True)"
   ]
  },
  {
   "cell_type": "code",
   "execution_count": null,
   "id": "e1c5bc4c-5524-4465-9dc5-0bb14c9c258c",
   "metadata": {
    "scrolled": true
   },
   "outputs": [],
   "source": [
    "data_start_up_1 = data_start_up[\n",
    "    [(\"Start-Up Investment|Deals\" == v or \"Start-Up Investment|Funding\" == v or \"Share\" in v) for v in data_start_up.Variable]\n",
    "]"
   ]
  },
  {
   "cell_type": "code",
   "execution_count": null,
   "id": "84b1b710-f3f2-4f83-87b4-adcebe6b69df",
   "metadata": {},
   "outputs": [],
   "source": [
    "data_start_up_2 = data_start_up[\n",
    "    [(\"Start-Up Investment|Deals\" != v and \"Start-Up Investment|Funding\" != v and \"Share\" not in v) for v in data_start_up.Variable]\n",
    "].fillna(0)"
   ]
  },
  {
   "cell_type": "code",
   "execution_count": null,
   "id": "31d20057-5e26-4d5c-b5b0-ba28dc31f9a0",
   "metadata": {
    "scrolled": true
   },
   "outputs": [],
   "source": [
    "df = pyam.concat(\n",
    "    [data_start_up_1, data_start_up_2],\n",
    "    **iamc_args,\n",
    ")"
   ]
  },
  {
   "cell_type": "code",
   "execution_count": null,
   "id": "57269350-a8de-4c08-8e0c-f8d8941b79fd",
   "metadata": {},
   "outputs": [],
   "source": [
    "df.rename(\n",
    "    variable=dict(\n",
    "        {\n",
    "          (\n",
    "              i, \n",
    "              (\n",
    "                  i.replace(\"Start-Up Investment\", \"Start-Up\")\n",
    "                  .replace(\"BECCS\", \"Bioenergy with CCS\")\n",
    "                  .replace(\"DAC(CS)\", \"Direct Air Capture with CCS\")\n",
    "                  .replace(\"DOC(CS)\", \"Direct Ocean Capture\")\n",
    "                  .replace(\"Soil Carbon\", \"Soil Carbon Sequestration\")\n",
    "              )\n",
    "          )\n",
    "            for i in df.variable\n",
    "        },\n",
    "    ),\n",
    "    inplace=True,\n",
    ")"
   ]
  },
  {
   "cell_type": "code",
   "execution_count": null,
   "id": "d049b55d-799a-428c-b083-f12f711d0765",
   "metadata": {},
   "outputs": [],
   "source": [
    "df.filter(variable=\"Start-Up|Funding*\").timeseries()"
   ]
  },
  {
   "cell_type": "code",
   "execution_count": null,
   "id": "eef5c8ef-5897-4bdb-9951-98c5a4c83da7",
   "metadata": {},
   "outputs": [],
   "source": [
    "startup_number = pd.read_csv(\"source/3_Demonstration/fig2a_v2.csv\")"
   ]
  },
  {
   "cell_type": "code",
   "execution_count": null,
   "id": "b86fbe79-517f-4a70-8003-a63771e9a812",
   "metadata": {},
   "outputs": [],
   "source": [
    "df_startup_number = pyam.IamDataFrame(\n",
    "    startup_number.rename(columns={\"Year.founded\": \"Year\", \"Method\": \"Variable\", \"Num.startups\": \"value\"}),\n",
    "    **iamc_args,\n",
    "    region=\"World\",\n",
    "    unit=\"\",\n",
    ")"
   ]
  },
  {
   "cell_type": "code",
   "execution_count": null,
   "id": "666a7f3e-f2dc-40bf-aa1d-89723036736e",
   "metadata": {},
   "outputs": [],
   "source": [
    "df_startup_number.rename(\n",
    "    variable=dict(\n",
    "        {\n",
    "          (\n",
    "              i, \"Start-Up|Number of Firms|Removal|\" +\n",
    "              (\n",
    "                  i\n",
    "                  .replace(\"BECCS\", \"Bioenergy with CCS\")\n",
    "                  .replace(\"Blue carbon\", \"Blue Carbon\")\n",
    "                  .replace(\"DACCS\", \"Direct Air Capture with CCS\")\n",
    "                  .replace(\"DOCCS\", \"Direct Ocean Capture\")\n",
    "                  .replace(\"Soil carbon\", \"Soil Carbon Sequestration\")\n",
    "                  .replace(\"Biomass burial\", \"Biomass Burial\")\n",
    "                  .replace(\"Enhanced weathering\", \"Enhanced Weathering\")\n",
    "                  .replace(\"Marine biomass\", \"Biomass Sinking\")\n",
    "                  .replace(\"OAE\", \"Ocean Alkalinity Enhancement\")\n",
    "                  \n",
    "              )\n",
    "          )\n",
    "            for i in df_startup_number.variable\n",
    "        },\n",
    "    ),\n",
    "    inplace=True,\n",
    ")"
   ]
  },
  {
   "cell_type": "code",
   "execution_count": null,
   "id": "556df5fc-30ce-44cf-ac73-d9ce1939b5a7",
   "metadata": {},
   "outputs": [],
   "source": [
    "df_startup_number.variable"
   ]
  },
  {
   "cell_type": "code",
   "execution_count": null,
   "id": "4d0b3a5b-483b-4fb0-8634-7d07bae6ae00",
   "metadata": {},
   "outputs": [],
   "source": [
    "df_startup_number.plot.bar(stacked=True)"
   ]
  },
  {
   "cell_type": "code",
   "execution_count": null,
   "id": "ab578557-5f15-4f06-ad36-425b1b83935b",
   "metadata": {},
   "outputs": [],
   "source": [
    "df_startup_number.aggregate(\"Start-Up|Number of Firms|Removal\", append=True)"
   ]
  },
  {
   "cell_type": "code",
   "execution_count": null,
   "id": "c21acdc6-430c-4d16-bf3b-4a15db49c89b",
   "metadata": {},
   "outputs": [],
   "source": [
    "planned_projects = pd.read_csv(\"source/3_Demonstration/Chapter3_Fig4_Data_v1.csv\")"
   ]
  },
  {
   "cell_type": "code",
   "execution_count": null,
   "id": "176dfbfc-48d1-45a4-b3de-1bda3be805c4",
   "metadata": {},
   "outputs": [],
   "source": [
    "columns = [\"DACCS\", \"BECCS\", \"Cement prod. with CCS \", \"WtE with CCS\", \"Total BECCS\", \"Total\"]\n",
    "\n",
    "df_planned_projects = pyam.IamDataFrame(\n",
    "    planned_projects[columns + [\"Year\"]],\n",
    "    **iamc_args,\n",
    "    value=columns,\n",
    "    region=\"World\",\n",
    "    unit=\"t CO2\",\n",
    ").convert_unit(\"t CO2\", \"Mt CO2\")"
   ]
  },
  {
   "cell_type": "code",
   "execution_count": null,
   "id": "b8163294-acb8-4a64-90dd-273a29598438",
   "metadata": {},
   "outputs": [],
   "source": [
    "df_planned_projects.rename(\n",
    "    variable=dict(\n",
    "        {\n",
    "          (\n",
    "              i, \"Planned Projects|Removal\" +\n",
    "              (\n",
    "                  i\n",
    "                  .replace(\"BECCS\", \"|Bioenergy with CCS\")\n",
    "                  .replace(\"DACCS\", \"|Direct Air Capture with CCS\")\n",
    "                  .replace(\"Total\", \"\")\n",
    "                  \n",
    "              )\n",
    "          )\n",
    "            for i in df_planned_projects.variable\n",
    "        },\n",
    "    ),\n",
    "    inplace=True,\n",
    ")"
   ]
  },
  {
   "cell_type": "code",
   "execution_count": null,
   "id": "c94fc7db-426d-4932-b4ca-39d51fd4de0f",
   "metadata": {},
   "outputs": [],
   "source": [
    "announced_projects = pd.read_csv(\"source/3_Demonstration/Chapter3_Fig5_Data_v1.csv\")"
   ]
  },
  {
   "cell_type": "code",
   "execution_count": null,
   "id": "db24dc9b-c81c-4925-b974-d11d65fe39a0",
   "metadata": {},
   "outputs": [],
   "source": [
    "announced_projects"
   ]
  },
  {
   "cell_type": "code",
   "execution_count": null,
   "id": "4cc27c28-150b-499d-bf32-b52b785686a2",
   "metadata": {},
   "outputs": [],
   "source": []
  },
  {
   "cell_type": "code",
   "execution_count": null,
   "id": "0bffda16-7670-47a4-8085-6b01f795c5f4",
   "metadata": {},
   "outputs": [],
   "source": []
  },
  {
   "cell_type": "code",
   "execution_count": null,
   "id": "fb87636a-59b0-402d-8282-3007d0a227ba",
   "metadata": {},
   "outputs": [],
   "source": []
  },
  {
   "cell_type": "code",
   "execution_count": null,
   "id": "518cf463-b8ae-4561-95a2-b2d8b9633028",
   "metadata": {},
   "outputs": [],
   "source": [
    "final_df = pyam.concat(\n",
    "    [df, df_startup_number]\n",
    ")"
   ]
  },
  {
   "cell_type": "code",
   "execution_count": null,
   "id": "1e06847f-f910-4664-8586-2de1aa305f52",
   "metadata": {},
   "outputs": [],
   "source": [
    "dsd.validate(final_df)"
   ]
  },
  {
   "cell_type": "code",
   "execution_count": null,
   "id": "52de79b2-3bf0-4d6d-ab48-8a81fb7f241f",
   "metadata": {},
   "outputs": [],
   "source": [
    "platform = ixmp4.Platform(\"socdr-dev\")"
   ]
  },
  {
   "cell_type": "code",
   "execution_count": null,
   "id": "7834fe85-82e8-4783-9d1e-f27073940b5e",
   "metadata": {},
   "outputs": [],
   "source": [
    "df.set_meta(\"Chapter 3\", \"Chapter\")"
   ]
  },
  {
   "cell_type": "code",
   "execution_count": null,
   "id": "c7246620-a4ec-4b78-a0f9-cbbc690946b8",
   "metadata": {},
   "outputs": [],
   "source": [
    "df"
   ]
  },
  {
   "cell_type": "code",
   "execution_count": null,
   "id": "b0ccce6e-43ba-4119-8564-89beb21d8048",
   "metadata": {},
   "outputs": [],
   "source": [
    "#df.to_ixmp4(platform)"
   ]
  },
  {
   "cell_type": "code",
   "execution_count": null,
   "id": "c4dc8c09-e28b-4df7-a2ec-49f8d46bc4df",
   "metadata": {},
   "outputs": [],
   "source": [
    "run = platform.runs.get(**iamc_args)"
   ]
  },
  {
   "cell_type": "code",
   "execution_count": null,
   "id": "66a3ea85-0e67-480d-81d2-b7ea362263ed",
   "metadata": {},
   "outputs": [],
   "source": [
    "run.iamc.remove(run.iamc.tabulate())"
   ]
  },
  {
   "cell_type": "code",
   "execution_count": null,
   "id": "cab007a4-0c24-4bcf-b879-ab193e9e4035",
   "metadata": {},
   "outputs": [],
   "source": [
    "run.iamc.add(final_df.data)"
   ]
  },
  {
   "cell_type": "code",
   "execution_count": null,
   "id": "f47390bb-4c23-4eec-b5f2-7d9b8cfa4b30",
   "metadata": {},
   "outputs": [],
   "source": []
  },
  {
   "cell_type": "code",
   "execution_count": null,
   "id": "551e4cac-aeba-4cfa-8cf6-fa00f26ff885",
   "metadata": {
    "scrolled": true
   },
   "outputs": [],
   "source": [
    "platform.units.create(\"-\")"
   ]
  },
  {
   "cell_type": "code",
   "execution_count": null,
   "id": "31999ff6-da8c-482e-8450-269f0c4f110c",
   "metadata": {},
   "outputs": [],
   "source": [
    "df.rename(unit={\"\": \"-\"}, inplace=True)"
   ]
  },
  {
   "cell_type": "code",
   "execution_count": null,
   "id": "5bc3e993-0246-4a12-92f8-346802f1b944",
   "metadata": {},
   "outputs": [],
   "source": [
    "platform.units.tabulate()"
   ]
  },
  {
   "cell_type": "code",
   "execution_count": null,
   "id": "b5d4b63e-1a19-4267-8dbf-f891e4644e7a",
   "metadata": {},
   "outputs": [],
   "source": [
    "final_df.variable"
   ]
  },
  {
   "cell_type": "code",
   "execution_count": null,
   "id": "4f650dbf-04ae-43c6-9471-c329e379d71d",
   "metadata": {},
   "outputs": [],
   "source": [
    "final_df.filter(variable=\"Start-Up|Number*\").variable"
   ]
  },
  {
   "cell_type": "code",
   "execution_count": null,
   "id": "8a66f869-221f-4919-9c0d-21f3aae258f8",
   "metadata": {},
   "outputs": [],
   "source": [
    "final_df.filter(variable=\"Start-Up|Deal*\").variable"
   ]
  },
  {
   "cell_type": "code",
   "execution_count": null,
   "id": "5e675b08-5ca1-43b5-8576-5b92b72808b9",
   "metadata": {},
   "outputs": [],
   "source": []
  }
 ],
 "metadata": {
  "kernelspec": {
   "display_name": "Python 3 (ipykernel)",
   "language": "python",
   "name": "python3"
  },
  "language_info": {
   "codemirror_mode": {
    "name": "ipython",
    "version": 3
   },
   "file_extension": ".py",
   "mimetype": "text/x-python",
   "name": "python",
   "nbconvert_exporter": "python",
   "pygments_lexer": "ipython3",
   "version": "3.12.2"
  }
 },
 "nbformat": 4,
 "nbformat_minor": 5
}
